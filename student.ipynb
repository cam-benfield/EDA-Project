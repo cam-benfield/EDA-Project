{
 "cells": [
  {
   "cell_type": "markdown",
   "metadata": {},
   "source": [
    "# Notes for CAM\n",
    "- Remember to uncomment out your quick checks. You might not need them, but you'll need them during your video.\n",
    "- Remember to change all of your visualizations in your presentation to the new color scheme."
   ]
  },
  {
   "cell_type": "markdown",
   "metadata": {},
   "source": [
    "---"
   ]
  },
  {
   "cell_type": "markdown",
   "metadata": {},
   "source": [
    "# Final Project Submission\n",
    "\n",
    "**Please fill out:**\n",
    "* Student name: Cameryn\n",
    "* Student pace: part time\n",
    "* Scheduled project review date/time: \n",
    "* Instructor name: Victor Geislinger\n",
    "* Blog post URL: \n"
   ]
  },
  {
   "cell_type": "markdown",
   "metadata": {},
   "source": [
    "---"
   ]
  },
  {
   "cell_type": "markdown",
   "metadata": {},
   "source": [
    "## Table of Contents:\n",
    " - [Importing Packages](#Importing-Packages)\n",
    " - [Importing CSV and TSV Files](#Importing-CSV-and-TSV-Files)\n",
    " - [Functions](#Functions)\n",
    "     - [Column Type Function](#Column-Type-Function)\n",
    "     - [Quick Check Function](#Quick-Check-Function)\n",
    "     - [Make DataFrame Function](#Make-DataFrame-Function)\n",
    "     - [Table Creator Function](#Table-Creator-Function)\n",
    " - [Data Cleaning](#Data-Cleaning)\n",
    "     - [Box Office Mojo Data](#Box-Office-Mojo-Data)\n",
    "     - [IMDb Data](#IMDb-Data)\n",
    "     - [Rotten Tomatoes Data](#Rotten-Tomatoes-Data)\n",
    "     - [TMDb Data](#TMDb-Data)\n",
    " - [Creating the Database](#Creating-the-Database)\n",
    " - [Visualizations](#Visualizations)\n",
    "     - [Content Data Visualization](#Content-Data-Visualization)\n",
    "     - [Personnel Data Visualization](#Personnel-Data-Visualization)\n",
    "     - [Financial Data Visualization](#Financial-Data-Visualization)"
   ]
  },
  {
   "cell_type": "markdown",
   "metadata": {},
   "source": [
    "---"
   ]
  },
  {
   "cell_type": "markdown",
   "metadata": {},
   "source": [
    "# Importing Packages\n",
    "For this project, the pandas, numpy, seaborn, matplotlib, and sqlite3 packages are needed and imported. The matplotlib is also declared as inline to avoid any potential issues in the future."
   ]
  },
  {
   "cell_type": "code",
   "execution_count": 1,
   "metadata": {},
   "outputs": [],
   "source": [
    "import pandas as pd # for dataframes\n",
    "import numpy as np # for scientific computing\n",
    "import matplotlib.pyplot as plt #for plotting\n",
    "import seaborn as sns # for making our charts more readable\n",
    "import sqlite3 # database\n",
    "from sqlalchemy import create_engine # moving data from df to db\n",
    "\n",
    "%matplotlib inline"
   ]
  },
  {
   "cell_type": "markdown",
   "metadata": {},
   "source": [
    "---"
   ]
  },
  {
   "cell_type": "markdown",
   "metadata": {},
   "source": [
    "# Importing CSV and TSV Files\n",
    "\n",
    "First, it is important to bring all of the data into a usable, readable format, in this case, pandas dataframes.\n",
    "\n",
    "**Note that one file, 'rt.reviews.tsv' is encoded differently and thus needed to be converted using the correct encoding declaration.**"
   ]
  },
  {
   "cell_type": "code",
   "execution_count": 2,
   "metadata": {},
   "outputs": [],
   "source": [
    "#Import data\n",
    "bom_df = pd.read_csv('zippedData/bom.movie_gross.csv')\n",
    "im_n_basics_df = pd.read_csv('zippedData/imdb.name.basics.csv')\n",
    "im_akas_df = pd.read_csv('zippedData/imdb.title.akas.csv')\n",
    "im_basics_df = pd.read_csv('zippedData/imdb.title.basics.csv')\n",
    "im_crew_df = pd.read_csv('zippedData/imdb.title.crew.csv')\n",
    "im_principals_df = pd.read_csv('zippedData/imdb.title.principals.csv')\n",
    "im_ratings_df = pd.read_csv('zippedData/imdb.title.ratings.csv')\n",
    "rt_movie_info_df = pd.read_csv('zippedData/rt.movie_info.tsv', sep='\\t')\n",
    "rt_reviews_df = pd.read_csv('zippedData/rt.reviews.tsv', sep='\\t', encoding = 'latin1')\n",
    "tmdb_movies_df = pd.read_csv('zippedData/tmdb.movies.csv')\n",
    "tn_budgets_df = pd.read_csv('zippedData/tn.movie_budgets.csv')"
   ]
  },
  {
   "cell_type": "markdown",
   "metadata": {},
   "source": [
    "After importing them, the .info() of each dataframe was checked in order to determine the data types of each column and determine what needed to be done in the below cells. That is not shown below for each dataframe, simply due to the amount of space that does take, but it is shown for the first dataframe, bom_df.\n",
    "\n",
    "**Note the 'foreign_gross' column's type. This will prevent future statistical analysis, which is addressed in the future.**"
   ]
  },
  {
   "cell_type": "markdown",
   "metadata": {},
   "source": [
    "---"
   ]
  },
  {
   "cell_type": "markdown",
   "metadata": {},
   "source": [
    "# Functions"
   ]
  },
  {
   "cell_type": "markdown",
   "metadata": {},
   "source": [
    "## Column Type Function\n",
    "The below functions have been written to prevent unnecessary repetition."
   ]
  },
  {
   "cell_type": "code",
   "execution_count": 3,
   "metadata": {},
   "outputs": [],
   "source": [
    "def column_type_changer(column, df):\n",
    "    \"\"\"Returns stripped, numeric column from object-type column\n",
    "       Args:\n",
    "           column: Column to be converted.\n",
    "           df: DataFrame that column is located in.\n",
    "       Returns:\n",
    "           Series data converted to numeric data type\"\"\"\n",
    "    \n",
    "    df[column] = df[column].str.replace('$','') # Removing non-numeric chars\n",
    "    df[column] = df[column].str.replace(',','') # Removing non-numeric chars\n",
    "    df[column] = df[column].str.replace(' minutes','') # Removing non-numeric chars\n",
    "    df[column] = df[column].apply(pd.to_numeric) # Converts to numbers\n",
    "    return df[column]"
   ]
  },
  {
   "cell_type": "markdown",
   "metadata": {},
   "source": [
    "## Quick Check Function\n",
    "To allow for quick checks of duplicated rows, missing data, and any odd statistics, the below function was created. It is pretty self-explanatory, but makes the process a bit simpler."
   ]
  },
  {
   "cell_type": "code",
   "execution_count": 4,
   "metadata": {},
   "outputs": [],
   "source": [
    "def quick_check(df):\n",
    "    \"\"\"Returns dataframe, unchanged, but prints vitals of dataframe\n",
    "       Args:\n",
    "           df: Dataframe for evaluation\"\"\"\n",
    "    print(\"**Dataframe Shape**\")\n",
    "    print(df.shape())\n",
    "    print(\"**SUM of NA Values**\")\n",
    "    print(df.isna().sum())\n",
    "    print(\"**Duplicated Rows**\")\n",
    "    print(df[df.duplicated()])\n",
    "    print(\"**Dataframe Statistics:**\")\n",
    "    print(df.describe())\n",
    "    return(df)"
   ]
  },
  {
   "cell_type": "markdown",
   "metadata": {},
   "source": [
    "## Make DataFrame Function\n",
    "This function prevents the user from needing to go through the process of creating dataframes over and over every time there is one that needs to be created from a sql query."
   ]
  },
  {
   "cell_type": "code",
   "execution_count": 5,
   "metadata": {},
   "outputs": [],
   "source": [
    "def make_dataframe():\n",
    "    \"\"\"Returns dataframe from SQL Query\"\"\"\n",
    "    df = pd.DataFrame(cur.fetchall())\n",
    "    df.columns = [x[0] for x in cur.description]\n",
    "    return(df)"
   ]
  },
  {
   "cell_type": "markdown",
   "metadata": {},
   "source": [
    "## Table Creator Function\n",
    "Creates tables based on dataframes in pipeline."
   ]
  },
  {
   "cell_type": "code",
   "execution_count": 6,
   "metadata": {},
   "outputs": [],
   "source": [
    "def table_creator(df, table_name):\n",
    "    \"\"\"Writes to SQL database tables from dataframes.\"\"\"\n",
    "    df.to_sql(table_name, con=engine)\n",
    "    engine.execute(\"\"\"SELECT * from {}\"\"\".format(table_name)).fetchall()"
   ]
  },
  {
   "cell_type": "markdown",
   "metadata": {},
   "source": [
    "---"
   ]
  },
  {
   "cell_type": "markdown",
   "metadata": {},
   "source": [
    "# Data Cleaning\n",
    "In order to appropriately understand and interpret each dataframe in the context of the others, it is important to clean and appropriately format each column, removing unhelpful and ill-formated data and replacing where possible.\n",
    "\n",
    "Duplicates will be removed next, and then null values will be dealt with, looking for contextual reasons for missing data."
   ]
  },
  {
   "cell_type": "markdown",
   "metadata": {},
   "source": [
    "### Box Office Mojo Data"
   ]
  },
  {
   "cell_type": "code",
   "execution_count": 7,
   "metadata": {},
   "outputs": [
    {
     "name": "stdout",
     "output_type": "stream",
     "text": [
      "<class 'pandas.core.frame.DataFrame'>\n",
      "RangeIndex: 3387 entries, 0 to 3386\n",
      "Data columns (total 5 columns):\n",
      "title             3387 non-null object\n",
      "studio            3382 non-null object\n",
      "domestic_gross    3359 non-null float64\n",
      "foreign_gross     2037 non-null object\n",
      "year              3387 non-null int64\n",
      "dtypes: float64(1), int64(1), object(3)\n",
      "memory usage: 132.4+ KB\n"
     ]
    }
   ],
   "source": [
    "bom_df.info() # Checking column types"
   ]
  },
  {
   "cell_type": "markdown",
   "metadata": {},
   "source": [
    "Due to the `foreign_gross` column's type, it is necessary to convert it to a numeric type."
   ]
  },
  {
   "cell_type": "code",
   "execution_count": 8,
   "metadata": {},
   "outputs": [],
   "source": [
    "bom_df['foreign_gross'] = column_type_changer('foreign_gross', bom_df)"
   ]
  },
  {
   "cell_type": "code",
   "execution_count": 9,
   "metadata": {},
   "outputs": [],
   "source": [
    "# quick_check(bom_df)"
   ]
  },
  {
   "cell_type": "markdown",
   "metadata": {},
   "source": [
    "Note the number of null objects in the 'foreign_gross' column. This could be attributed to a number of things, though often it could simply be that the film wasn't released abroad. Without context, it may cause more problems that it would solve to replace that information. Further exploration of the other data may be necessary.\n",
    "More importantly, note the number of NA values in domestic gross. As Microsoft is likely going to be focused on domestically-valuable films, we can safely drop the few films with no data in that column."
   ]
  },
  {
   "cell_type": "code",
   "execution_count": 10,
   "metadata": {},
   "outputs": [
    {
     "data": {
      "text/plain": [
       "title                0\n",
       "studio               3\n",
       "domestic_gross       0\n",
       "foreign_gross     1350\n",
       "year                 0\n",
       "dtype: int64"
      ]
     },
     "execution_count": 10,
     "metadata": {},
     "output_type": "execute_result"
    }
   ],
   "source": [
    "# Removing lines with NA in Domestic Gross\n",
    "bom_df.dropna(subset=['domestic_gross'],inplace=True)\n",
    "\n",
    "# Checking for NA Values\n",
    "bom_df.isna().sum()"
   ]
  },
  {
   "cell_type": "markdown",
   "metadata": {},
   "source": [
    "### IMDb Data"
   ]
  },
  {
   "cell_type": "markdown",
   "metadata": {},
   "source": [
    "**Setting Indices**\n",
    "\n",
    "IMDb's data does utilize constants for each unique title and person, which is why each dataframe will have the appropriate constant set as its index. This does two things: it prevents excess data from being pushed over to the SQLite database in the future in the form of unnecessary indexes, and it allows for better, cleaner looking dataframes.\n",
    "\n",
    "**Merging DataFrames**\n",
    "\n",
    "In order to better utilize this data, the ratings dataframe will be merged with the basics dataframe, as the ratings dataframe does not contain any keys that otherwise would refer to other dataframes in future data manipulation. The crew dataframe will also be merged into the dataframe, utilizing the tconstant column in order to maintain consistency, and to allow future joins and subqueries to be much more simple.\n",
    "\n",
    "**While this does remove some lines from the data, as the client is clearly attempting to determine what the best option is to enter the film business, requiring ratings seems to be a good choice.**"
   ]
  },
  {
   "cell_type": "code",
   "execution_count": 11,
   "metadata": {},
   "outputs": [
    {
     "data": {
      "text/html": [
       "<div>\n",
       "<style scoped>\n",
       "    .dataframe tbody tr th:only-of-type {\n",
       "        vertical-align: middle;\n",
       "    }\n",
       "\n",
       "    .dataframe tbody tr th {\n",
       "        vertical-align: top;\n",
       "    }\n",
       "\n",
       "    .dataframe thead th {\n",
       "        text-align: right;\n",
       "    }\n",
       "</style>\n",
       "<table border=\"1\" class=\"dataframe\">\n",
       "  <thead>\n",
       "    <tr style=\"text-align: right;\">\n",
       "      <th></th>\n",
       "      <th>directors</th>\n",
       "      <th>writers</th>\n",
       "    </tr>\n",
       "    <tr>\n",
       "      <th>tconst</th>\n",
       "      <th></th>\n",
       "      <th></th>\n",
       "    </tr>\n",
       "  </thead>\n",
       "  <tbody>\n",
       "    <tr>\n",
       "      <td>tt0285252</td>\n",
       "      <td>nm0899854</td>\n",
       "      <td>nm0899854</td>\n",
       "    </tr>\n",
       "    <tr>\n",
       "      <td>tt0438973</td>\n",
       "      <td>NaN</td>\n",
       "      <td>nm0175726,nm1802864</td>\n",
       "    </tr>\n",
       "    <tr>\n",
       "      <td>tt0462036</td>\n",
       "      <td>nm1940585</td>\n",
       "      <td>nm1940585</td>\n",
       "    </tr>\n",
       "    <tr>\n",
       "      <td>tt0835418</td>\n",
       "      <td>nm0151540</td>\n",
       "      <td>nm0310087,nm0841532</td>\n",
       "    </tr>\n",
       "    <tr>\n",
       "      <td>tt0878654</td>\n",
       "      <td>nm0089502,nm2291498,nm2292011</td>\n",
       "      <td>nm0284943</td>\n",
       "    </tr>\n",
       "    <tr>\n",
       "      <td>...</td>\n",
       "      <td>...</td>\n",
       "      <td>...</td>\n",
       "    </tr>\n",
       "    <tr>\n",
       "      <td>tt8999974</td>\n",
       "      <td>nm10122357</td>\n",
       "      <td>nm10122357</td>\n",
       "    </tr>\n",
       "    <tr>\n",
       "      <td>tt9001390</td>\n",
       "      <td>nm6711477</td>\n",
       "      <td>nm6711477</td>\n",
       "    </tr>\n",
       "    <tr>\n",
       "      <td>tt9001494</td>\n",
       "      <td>nm10123242,nm10123248</td>\n",
       "      <td>NaN</td>\n",
       "    </tr>\n",
       "    <tr>\n",
       "      <td>tt9004986</td>\n",
       "      <td>nm4993825</td>\n",
       "      <td>nm4993825</td>\n",
       "    </tr>\n",
       "    <tr>\n",
       "      <td>tt9010172</td>\n",
       "      <td>NaN</td>\n",
       "      <td>nm8352242</td>\n",
       "    </tr>\n",
       "  </tbody>\n",
       "</table>\n",
       "<p>146144 rows × 2 columns</p>\n",
       "</div>"
      ],
      "text/plain": [
       "                               directors              writers\n",
       "tconst                                                       \n",
       "tt0285252                      nm0899854            nm0899854\n",
       "tt0438973                            NaN  nm0175726,nm1802864\n",
       "tt0462036                      nm1940585            nm1940585\n",
       "tt0835418                      nm0151540  nm0310087,nm0841532\n",
       "tt0878654  nm0089502,nm2291498,nm2292011            nm0284943\n",
       "...                                  ...                  ...\n",
       "tt8999974                     nm10122357           nm10122357\n",
       "tt9001390                      nm6711477            nm6711477\n",
       "tt9001494          nm10123242,nm10123248                  NaN\n",
       "tt9004986                      nm4993825            nm4993825\n",
       "tt9010172                            NaN            nm8352242\n",
       "\n",
       "[146144 rows x 2 columns]"
      ]
     },
     "execution_count": 11,
     "metadata": {},
     "output_type": "execute_result"
    }
   ],
   "source": [
    "# Quick preview of crew dataframe\n",
    "# quick_check(im_crew_df)\n",
    "im_crew_df.set_index('tconst')"
   ]
  },
  {
   "cell_type": "markdown",
   "metadata": {},
   "source": [
    "As comparatively few rows as are missing director data, dropping those rows is unlikely to provide any benefit."
   ]
  },
  {
   "cell_type": "code",
   "execution_count": 12,
   "metadata": {},
   "outputs": [
    {
     "data": {
      "text/html": [
       "<div>\n",
       "<style scoped>\n",
       "    .dataframe tbody tr th:only-of-type {\n",
       "        vertical-align: middle;\n",
       "    }\n",
       "\n",
       "    .dataframe tbody tr th {\n",
       "        vertical-align: top;\n",
       "    }\n",
       "\n",
       "    .dataframe thead th {\n",
       "        text-align: right;\n",
       "    }\n",
       "</style>\n",
       "<table border=\"1\" class=\"dataframe\">\n",
       "  <thead>\n",
       "    <tr style=\"text-align: right;\">\n",
       "      <th></th>\n",
       "      <th>averagerating</th>\n",
       "      <th>numvotes</th>\n",
       "    </tr>\n",
       "    <tr>\n",
       "      <th>tconst</th>\n",
       "      <th></th>\n",
       "      <th></th>\n",
       "    </tr>\n",
       "  </thead>\n",
       "  <tbody>\n",
       "    <tr>\n",
       "      <td>tt10356526</td>\n",
       "      <td>8.3</td>\n",
       "      <td>31</td>\n",
       "    </tr>\n",
       "    <tr>\n",
       "      <td>tt10384606</td>\n",
       "      <td>8.9</td>\n",
       "      <td>559</td>\n",
       "    </tr>\n",
       "    <tr>\n",
       "      <td>tt1042974</td>\n",
       "      <td>6.4</td>\n",
       "      <td>20</td>\n",
       "    </tr>\n",
       "    <tr>\n",
       "      <td>tt1043726</td>\n",
       "      <td>4.2</td>\n",
       "      <td>50352</td>\n",
       "    </tr>\n",
       "    <tr>\n",
       "      <td>tt1060240</td>\n",
       "      <td>6.5</td>\n",
       "      <td>21</td>\n",
       "    </tr>\n",
       "    <tr>\n",
       "      <td>...</td>\n",
       "      <td>...</td>\n",
       "      <td>...</td>\n",
       "    </tr>\n",
       "    <tr>\n",
       "      <td>tt9805820</td>\n",
       "      <td>8.1</td>\n",
       "      <td>25</td>\n",
       "    </tr>\n",
       "    <tr>\n",
       "      <td>tt9844256</td>\n",
       "      <td>7.5</td>\n",
       "      <td>24</td>\n",
       "    </tr>\n",
       "    <tr>\n",
       "      <td>tt9851050</td>\n",
       "      <td>4.7</td>\n",
       "      <td>14</td>\n",
       "    </tr>\n",
       "    <tr>\n",
       "      <td>tt9886934</td>\n",
       "      <td>7.0</td>\n",
       "      <td>5</td>\n",
       "    </tr>\n",
       "    <tr>\n",
       "      <td>tt9894098</td>\n",
       "      <td>6.3</td>\n",
       "      <td>128</td>\n",
       "    </tr>\n",
       "  </tbody>\n",
       "</table>\n",
       "<p>73856 rows × 2 columns</p>\n",
       "</div>"
      ],
      "text/plain": [
       "            averagerating  numvotes\n",
       "tconst                             \n",
       "tt10356526            8.3        31\n",
       "tt10384606            8.9       559\n",
       "tt1042974             6.4        20\n",
       "tt1043726             4.2     50352\n",
       "tt1060240             6.5        21\n",
       "...                   ...       ...\n",
       "tt9805820             8.1        25\n",
       "tt9844256             7.5        24\n",
       "tt9851050             4.7        14\n",
       "tt9886934             7.0         5\n",
       "tt9894098             6.3       128\n",
       "\n",
       "[73856 rows x 2 columns]"
      ]
     },
     "execution_count": 12,
     "metadata": {},
     "output_type": "execute_result"
    }
   ],
   "source": [
    "# Checking for NA values, none found, no cleaning necessary\n",
    "# quick_check(im_ratings_df)\n",
    "im_ratings_df.head() # Quick preview of ratings dataframe\n",
    "im_ratings_df.set_index('tconst')"
   ]
  },
  {
   "cell_type": "code",
   "execution_count": 13,
   "metadata": {},
   "outputs": [],
   "source": [
    "# Quickly check dataframe for duplicates and null values:\n",
    "# quick_check(im_basics_df)"
   ]
  },
  {
   "cell_type": "code",
   "execution_count": 14,
   "metadata": {},
   "outputs": [
    {
     "data": {
      "text/html": [
       "<div>\n",
       "<style scoped>\n",
       "    .dataframe tbody tr th:only-of-type {\n",
       "        vertical-align: middle;\n",
       "    }\n",
       "\n",
       "    .dataframe tbody tr th {\n",
       "        vertical-align: top;\n",
       "    }\n",
       "\n",
       "    .dataframe thead th {\n",
       "        text-align: right;\n",
       "    }\n",
       "</style>\n",
       "<table border=\"1\" class=\"dataframe\">\n",
       "  <thead>\n",
       "    <tr style=\"text-align: right;\">\n",
       "      <th></th>\n",
       "      <th>primary_title</th>\n",
       "      <th>original_title</th>\n",
       "      <th>start_year</th>\n",
       "      <th>runtime_minutes</th>\n",
       "      <th>genres</th>\n",
       "      <th>averagerating</th>\n",
       "      <th>numvotes</th>\n",
       "      <th>directors</th>\n",
       "      <th>writers</th>\n",
       "    </tr>\n",
       "    <tr>\n",
       "      <th>tconst</th>\n",
       "      <th></th>\n",
       "      <th></th>\n",
       "      <th></th>\n",
       "      <th></th>\n",
       "      <th></th>\n",
       "      <th></th>\n",
       "      <th></th>\n",
       "      <th></th>\n",
       "      <th></th>\n",
       "    </tr>\n",
       "  </thead>\n",
       "  <tbody>\n",
       "    <tr>\n",
       "      <td>tt0063540</td>\n",
       "      <td>Sunghursh</td>\n",
       "      <td>Sunghursh</td>\n",
       "      <td>2013</td>\n",
       "      <td>175.0</td>\n",
       "      <td>Action,Crime,Drama</td>\n",
       "      <td>7.0</td>\n",
       "      <td>77</td>\n",
       "      <td>nm0712540</td>\n",
       "      <td>nm0023551,nm1194313,nm0347899,nm1391276</td>\n",
       "    </tr>\n",
       "    <tr>\n",
       "      <td>tt0066787</td>\n",
       "      <td>One Day Before the Rainy Season</td>\n",
       "      <td>Ashad Ka Ek Din</td>\n",
       "      <td>2019</td>\n",
       "      <td>114.0</td>\n",
       "      <td>Biography,Drama</td>\n",
       "      <td>7.2</td>\n",
       "      <td>43</td>\n",
       "      <td>nm0002411</td>\n",
       "      <td>NaN</td>\n",
       "    </tr>\n",
       "    <tr>\n",
       "      <td>tt0069049</td>\n",
       "      <td>The Other Side of the Wind</td>\n",
       "      <td>The Other Side of the Wind</td>\n",
       "      <td>2018</td>\n",
       "      <td>122.0</td>\n",
       "      <td>Drama</td>\n",
       "      <td>6.9</td>\n",
       "      <td>4517</td>\n",
       "      <td>nm0000080</td>\n",
       "      <td>nm0000080,nm0462648</td>\n",
       "    </tr>\n",
       "    <tr>\n",
       "      <td>tt0069204</td>\n",
       "      <td>Sabse Bada Sukh</td>\n",
       "      <td>Sabse Bada Sukh</td>\n",
       "      <td>2018</td>\n",
       "      <td>NaN</td>\n",
       "      <td>Comedy,Drama</td>\n",
       "      <td>6.1</td>\n",
       "      <td>13</td>\n",
       "      <td>nm0611531</td>\n",
       "      <td>nm0347899</td>\n",
       "    </tr>\n",
       "    <tr>\n",
       "      <td>tt0100275</td>\n",
       "      <td>The Wandering Soap Opera</td>\n",
       "      <td>La Telenovela Errante</td>\n",
       "      <td>2017</td>\n",
       "      <td>80.0</td>\n",
       "      <td>Comedy,Drama,Fantasy</td>\n",
       "      <td>6.5</td>\n",
       "      <td>119</td>\n",
       "      <td>nm0765384,nm0749914</td>\n",
       "      <td>nm1360635,nm0749914</td>\n",
       "    </tr>\n",
       "    <tr>\n",
       "      <td>...</td>\n",
       "      <td>...</td>\n",
       "      <td>...</td>\n",
       "      <td>...</td>\n",
       "      <td>...</td>\n",
       "      <td>...</td>\n",
       "      <td>...</td>\n",
       "      <td>...</td>\n",
       "      <td>...</td>\n",
       "      <td>...</td>\n",
       "    </tr>\n",
       "    <tr>\n",
       "      <td>tt9913084</td>\n",
       "      <td>Diabolik sono io</td>\n",
       "      <td>Diabolik sono io</td>\n",
       "      <td>2019</td>\n",
       "      <td>75.0</td>\n",
       "      <td>Documentary</td>\n",
       "      <td>6.2</td>\n",
       "      <td>6</td>\n",
       "      <td>nm0812850</td>\n",
       "      <td>nm0812850,nm10121762</td>\n",
       "    </tr>\n",
       "    <tr>\n",
       "      <td>tt9914286</td>\n",
       "      <td>Sokagin Çocuklari</td>\n",
       "      <td>Sokagin Çocuklari</td>\n",
       "      <td>2019</td>\n",
       "      <td>98.0</td>\n",
       "      <td>Drama,Family</td>\n",
       "      <td>8.7</td>\n",
       "      <td>136</td>\n",
       "      <td>nm4394529</td>\n",
       "      <td>nm4394529,nm1902682</td>\n",
       "    </tr>\n",
       "    <tr>\n",
       "      <td>tt9914642</td>\n",
       "      <td>Albatross</td>\n",
       "      <td>Albatross</td>\n",
       "      <td>2017</td>\n",
       "      <td>NaN</td>\n",
       "      <td>Documentary</td>\n",
       "      <td>8.5</td>\n",
       "      <td>8</td>\n",
       "      <td>nm5300859</td>\n",
       "      <td>nm5300859,nm7332227</td>\n",
       "    </tr>\n",
       "    <tr>\n",
       "      <td>tt9914942</td>\n",
       "      <td>La vida sense la Sara Amat</td>\n",
       "      <td>La vida sense la Sara Amat</td>\n",
       "      <td>2019</td>\n",
       "      <td>NaN</td>\n",
       "      <td>NaN</td>\n",
       "      <td>6.6</td>\n",
       "      <td>5</td>\n",
       "      <td>nm1716653</td>\n",
       "      <td>nm3678448,nm9361716</td>\n",
       "    </tr>\n",
       "    <tr>\n",
       "      <td>tt9916160</td>\n",
       "      <td>Drømmeland</td>\n",
       "      <td>Drømmeland</td>\n",
       "      <td>2019</td>\n",
       "      <td>72.0</td>\n",
       "      <td>Documentary</td>\n",
       "      <td>6.5</td>\n",
       "      <td>11</td>\n",
       "      <td>nm5684093</td>\n",
       "      <td>NaN</td>\n",
       "    </tr>\n",
       "  </tbody>\n",
       "</table>\n",
       "<p>73856 rows × 9 columns</p>\n",
       "</div>"
      ],
      "text/plain": [
       "                             primary_title              original_title  \\\n",
       "tconst                                                                   \n",
       "tt0063540                        Sunghursh                   Sunghursh   \n",
       "tt0066787  One Day Before the Rainy Season             Ashad Ka Ek Din   \n",
       "tt0069049       The Other Side of the Wind  The Other Side of the Wind   \n",
       "tt0069204                  Sabse Bada Sukh             Sabse Bada Sukh   \n",
       "tt0100275         The Wandering Soap Opera       La Telenovela Errante   \n",
       "...                                    ...                         ...   \n",
       "tt9913084                 Diabolik sono io            Diabolik sono io   \n",
       "tt9914286                Sokagin Çocuklari           Sokagin Çocuklari   \n",
       "tt9914642                        Albatross                   Albatross   \n",
       "tt9914942       La vida sense la Sara Amat  La vida sense la Sara Amat   \n",
       "tt9916160                       Drømmeland                  Drømmeland   \n",
       "\n",
       "           start_year  runtime_minutes                genres  averagerating  \\\n",
       "tconst                                                                        \n",
       "tt0063540        2013            175.0    Action,Crime,Drama            7.0   \n",
       "tt0066787        2019            114.0       Biography,Drama            7.2   \n",
       "tt0069049        2018            122.0                 Drama            6.9   \n",
       "tt0069204        2018              NaN          Comedy,Drama            6.1   \n",
       "tt0100275        2017             80.0  Comedy,Drama,Fantasy            6.5   \n",
       "...               ...              ...                   ...            ...   \n",
       "tt9913084        2019             75.0           Documentary            6.2   \n",
       "tt9914286        2019             98.0          Drama,Family            8.7   \n",
       "tt9914642        2017              NaN           Documentary            8.5   \n",
       "tt9914942        2019              NaN                   NaN            6.6   \n",
       "tt9916160        2019             72.0           Documentary            6.5   \n",
       "\n",
       "           numvotes            directors  \\\n",
       "tconst                                     \n",
       "tt0063540        77            nm0712540   \n",
       "tt0066787        43            nm0002411   \n",
       "tt0069049      4517            nm0000080   \n",
       "tt0069204        13            nm0611531   \n",
       "tt0100275       119  nm0765384,nm0749914   \n",
       "...             ...                  ...   \n",
       "tt9913084         6            nm0812850   \n",
       "tt9914286       136            nm4394529   \n",
       "tt9914642         8            nm5300859   \n",
       "tt9914942         5            nm1716653   \n",
       "tt9916160        11            nm5684093   \n",
       "\n",
       "                                           writers  \n",
       "tconst                                              \n",
       "tt0063540  nm0023551,nm1194313,nm0347899,nm1391276  \n",
       "tt0066787                                      NaN  \n",
       "tt0069049                      nm0000080,nm0462648  \n",
       "tt0069204                                nm0347899  \n",
       "tt0100275                      nm1360635,nm0749914  \n",
       "...                                            ...  \n",
       "tt9913084                     nm0812850,nm10121762  \n",
       "tt9914286                      nm4394529,nm1902682  \n",
       "tt9914642                      nm5300859,nm7332227  \n",
       "tt9914942                      nm3678448,nm9361716  \n",
       "tt9916160                                      NaN  \n",
       "\n",
       "[73856 rows x 9 columns]"
      ]
     },
     "execution_count": 14,
     "metadata": {},
     "output_type": "execute_result"
    }
   ],
   "source": [
    "# Merging ratings and crew dataframes\n",
    "im_basics_df = pd.merge(im_basics_df, im_ratings_df, on='tconst')\n",
    "im_basics_df = pd.merge(im_basics_df, im_crew_df, on='tconst')\n",
    "# Setting index to tconst\n",
    "im_basics_df.set_index('tconst')\n",
    "# Quickly check dataframe for duplicates and null values:\n",
    "# quick_check(im_basics_df)"
   ]
  },
  {
   "cell_type": "markdown",
   "metadata": {},
   "source": [
    "In the below cell, the info function will be used to preview the data types, while head will be used to see what data is inside of the dataframe. Finally, setting the index to `nconst` to make the SQL import in the future much more simple, as was completed earlier in the process using the movie constants. "
   ]
  },
  {
   "cell_type": "code",
   "execution_count": 15,
   "metadata": {},
   "outputs": [
    {
     "data": {
      "text/html": [
       "<div>\n",
       "<style scoped>\n",
       "    .dataframe tbody tr th:only-of-type {\n",
       "        vertical-align: middle;\n",
       "    }\n",
       "\n",
       "    .dataframe tbody tr th {\n",
       "        vertical-align: top;\n",
       "    }\n",
       "\n",
       "    .dataframe thead th {\n",
       "        text-align: right;\n",
       "    }\n",
       "</style>\n",
       "<table border=\"1\" class=\"dataframe\">\n",
       "  <thead>\n",
       "    <tr style=\"text-align: right;\">\n",
       "      <th></th>\n",
       "      <th>primary_name</th>\n",
       "      <th>birth_year</th>\n",
       "      <th>death_year</th>\n",
       "      <th>primary_profession</th>\n",
       "      <th>known_for_titles</th>\n",
       "    </tr>\n",
       "    <tr>\n",
       "      <th>nconst</th>\n",
       "      <th></th>\n",
       "      <th></th>\n",
       "      <th></th>\n",
       "      <th></th>\n",
       "      <th></th>\n",
       "    </tr>\n",
       "  </thead>\n",
       "  <tbody>\n",
       "    <tr>\n",
       "      <td>nm0061671</td>\n",
       "      <td>Mary Ellen Bauder</td>\n",
       "      <td>NaN</td>\n",
       "      <td>NaN</td>\n",
       "      <td>miscellaneous,production_manager,producer</td>\n",
       "      <td>tt0837562,tt2398241,tt0844471,tt0118553</td>\n",
       "    </tr>\n",
       "    <tr>\n",
       "      <td>nm0061865</td>\n",
       "      <td>Joseph Bauer</td>\n",
       "      <td>NaN</td>\n",
       "      <td>NaN</td>\n",
       "      <td>composer,music_department,sound_department</td>\n",
       "      <td>tt0896534,tt6791238,tt0287072,tt1682940</td>\n",
       "    </tr>\n",
       "    <tr>\n",
       "      <td>nm0062070</td>\n",
       "      <td>Bruce Baum</td>\n",
       "      <td>NaN</td>\n",
       "      <td>NaN</td>\n",
       "      <td>miscellaneous,actor,writer</td>\n",
       "      <td>tt1470654,tt0363631,tt0104030,tt0102898</td>\n",
       "    </tr>\n",
       "    <tr>\n",
       "      <td>nm0062195</td>\n",
       "      <td>Axel Baumann</td>\n",
       "      <td>NaN</td>\n",
       "      <td>NaN</td>\n",
       "      <td>camera_department,cinematographer,art_department</td>\n",
       "      <td>tt0114371,tt2004304,tt1618448,tt1224387</td>\n",
       "    </tr>\n",
       "    <tr>\n",
       "      <td>nm0062798</td>\n",
       "      <td>Pete Baxter</td>\n",
       "      <td>NaN</td>\n",
       "      <td>NaN</td>\n",
       "      <td>production_designer,art_department,set_decorator</td>\n",
       "      <td>tt0452644,tt0452692,tt3458030,tt2178256</td>\n",
       "    </tr>\n",
       "    <tr>\n",
       "      <td>...</td>\n",
       "      <td>...</td>\n",
       "      <td>...</td>\n",
       "      <td>...</td>\n",
       "      <td>...</td>\n",
       "      <td>...</td>\n",
       "    </tr>\n",
       "    <tr>\n",
       "      <td>nm9990381</td>\n",
       "      <td>Susan Grobes</td>\n",
       "      <td>NaN</td>\n",
       "      <td>NaN</td>\n",
       "      <td>actress</td>\n",
       "      <td>NaN</td>\n",
       "    </tr>\n",
       "    <tr>\n",
       "      <td>nm9990690</td>\n",
       "      <td>Joo Yeon So</td>\n",
       "      <td>NaN</td>\n",
       "      <td>NaN</td>\n",
       "      <td>actress</td>\n",
       "      <td>tt9090932,tt8737130</td>\n",
       "    </tr>\n",
       "    <tr>\n",
       "      <td>nm9991320</td>\n",
       "      <td>Madeline Smith</td>\n",
       "      <td>NaN</td>\n",
       "      <td>NaN</td>\n",
       "      <td>actress</td>\n",
       "      <td>tt8734436,tt9615610</td>\n",
       "    </tr>\n",
       "    <tr>\n",
       "      <td>nm9991786</td>\n",
       "      <td>Michelle Modigliani</td>\n",
       "      <td>NaN</td>\n",
       "      <td>NaN</td>\n",
       "      <td>producer</td>\n",
       "      <td>NaN</td>\n",
       "    </tr>\n",
       "    <tr>\n",
       "      <td>nm9993380</td>\n",
       "      <td>Pegasus Envoyé</td>\n",
       "      <td>NaN</td>\n",
       "      <td>NaN</td>\n",
       "      <td>director,actor,writer</td>\n",
       "      <td>tt8743182</td>\n",
       "    </tr>\n",
       "  </tbody>\n",
       "</table>\n",
       "<p>606648 rows × 5 columns</p>\n",
       "</div>"
      ],
      "text/plain": [
       "                  primary_name  birth_year  death_year  \\\n",
       "nconst                                                   \n",
       "nm0061671    Mary Ellen Bauder         NaN         NaN   \n",
       "nm0061865         Joseph Bauer         NaN         NaN   \n",
       "nm0062070           Bruce Baum         NaN         NaN   \n",
       "nm0062195         Axel Baumann         NaN         NaN   \n",
       "nm0062798          Pete Baxter         NaN         NaN   \n",
       "...                        ...         ...         ...   \n",
       "nm9990381         Susan Grobes         NaN         NaN   \n",
       "nm9990690          Joo Yeon So         NaN         NaN   \n",
       "nm9991320       Madeline Smith         NaN         NaN   \n",
       "nm9991786  Michelle Modigliani         NaN         NaN   \n",
       "nm9993380       Pegasus Envoyé         NaN         NaN   \n",
       "\n",
       "                                         primary_profession  \\\n",
       "nconst                                                        \n",
       "nm0061671         miscellaneous,production_manager,producer   \n",
       "nm0061865        composer,music_department,sound_department   \n",
       "nm0062070                        miscellaneous,actor,writer   \n",
       "nm0062195  camera_department,cinematographer,art_department   \n",
       "nm0062798  production_designer,art_department,set_decorator   \n",
       "...                                                     ...   \n",
       "nm9990381                                           actress   \n",
       "nm9990690                                           actress   \n",
       "nm9991320                                           actress   \n",
       "nm9991786                                          producer   \n",
       "nm9993380                             director,actor,writer   \n",
       "\n",
       "                                  known_for_titles  \n",
       "nconst                                              \n",
       "nm0061671  tt0837562,tt2398241,tt0844471,tt0118553  \n",
       "nm0061865  tt0896534,tt6791238,tt0287072,tt1682940  \n",
       "nm0062070  tt1470654,tt0363631,tt0104030,tt0102898  \n",
       "nm0062195  tt0114371,tt2004304,tt1618448,tt1224387  \n",
       "nm0062798  tt0452644,tt0452692,tt3458030,tt2178256  \n",
       "...                                            ...  \n",
       "nm9990381                                      NaN  \n",
       "nm9990690                      tt9090932,tt8737130  \n",
       "nm9991320                      tt8734436,tt9615610  \n",
       "nm9991786                                      NaN  \n",
       "nm9993380                                tt8743182  \n",
       "\n",
       "[606648 rows x 5 columns]"
      ]
     },
     "execution_count": 15,
     "metadata": {},
     "output_type": "execute_result"
    }
   ],
   "source": [
    "# quick_check(im_n_basics_df)\n",
    "im_n_basics_df.set_index('nconst') #"
   ]
  },
  {
   "cell_type": "code",
   "execution_count": 16,
   "metadata": {
    "scrolled": false
   },
   "outputs": [],
   "source": [
    "# quick_check(im_principals_df)"
   ]
  },
  {
   "cell_type": "code",
   "execution_count": 17,
   "metadata": {},
   "outputs": [],
   "source": [
    "# quick_check(im_akas_df)"
   ]
  },
  {
   "cell_type": "markdown",
   "metadata": {},
   "source": [
    "### Rotten Tomatoes Data"
   ]
  },
  {
   "cell_type": "code",
   "execution_count": 18,
   "metadata": {
    "scrolled": false
   },
   "outputs": [
    {
     "name": "stdout",
     "output_type": "stream",
     "text": [
      "<class 'pandas.core.frame.DataFrame'>\n",
      "RangeIndex: 1560 entries, 0 to 1559\n",
      "Data columns (total 12 columns):\n",
      "id              1560 non-null int64\n",
      "synopsis        1498 non-null object\n",
      "rating          1557 non-null object\n",
      "genre           1552 non-null object\n",
      "director        1361 non-null object\n",
      "writer          1111 non-null object\n",
      "theater_date    1201 non-null object\n",
      "dvd_date        1201 non-null object\n",
      "currency        340 non-null object\n",
      "box_office      340 non-null object\n",
      "runtime         1530 non-null object\n",
      "studio          494 non-null object\n",
      "dtypes: int64(1), object(11)\n",
      "memory usage: 146.4+ KB\n"
     ]
    }
   ],
   "source": [
    "rt_movie_info_df.info()\n",
    "rt_movie_info_df['box_office'] = column_type_changer('box_office',rt_movie_info_df)\n",
    "rt_movie_info_df['runtime'] = column_type_changer('runtime',rt_movie_info_df)\n",
    "rt_movie_info_df.drop(columns='id', inplace=True)\n",
    "# quick_check(rt_movie_info_df)"
   ]
  },
  {
   "cell_type": "markdown",
   "metadata": {},
   "source": [
    "**Note that this is the first time that duplicated data has been found.**\n",
    "To deal with the duplicate data, `.drop_duplicates()` will be used."
   ]
  },
  {
   "cell_type": "code",
   "execution_count": 19,
   "metadata": {},
   "outputs": [],
   "source": [
    "rt_movie_info_df.drop_duplicates(keep='first',inplace=True)\n",
    "# quick_check(rt_movie_info_df)"
   ]
  },
  {
   "cell_type": "markdown",
   "metadata": {},
   "source": [
    "After running the duplicate drop, it seems to have resolved the issue."
   ]
  },
  {
   "cell_type": "markdown",
   "metadata": {},
   "source": [
    "**Data to be used to identify reviewers for invitations. (Look for fresh and high ratings from top critics.)**"
   ]
  },
  {
   "cell_type": "code",
   "execution_count": 20,
   "metadata": {
    "scrolled": false
   },
   "outputs": [],
   "source": [
    "#use this data to potentially invite specific reviewers\n",
    "rt_reviews_df.drop(columns='id', inplace=True)\n",
    "# quick_check(rt_reviews_df)"
   ]
  },
  {
   "cell_type": "code",
   "execution_count": 21,
   "metadata": {},
   "outputs": [],
   "source": [
    "rt_reviews_df.drop_duplicates(keep='first',inplace=True)\n",
    "# quick_check(rt_reviews_df)"
   ]
  },
  {
   "cell_type": "markdown",
   "metadata": {},
   "source": [
    "### TMDb Data"
   ]
  },
  {
   "cell_type": "code",
   "execution_count": 22,
   "metadata": {},
   "outputs": [
    {
     "data": {
      "text/html": [
       "<div>\n",
       "<style scoped>\n",
       "    .dataframe tbody tr th:only-of-type {\n",
       "        vertical-align: middle;\n",
       "    }\n",
       "\n",
       "    .dataframe tbody tr th {\n",
       "        vertical-align: top;\n",
       "    }\n",
       "\n",
       "    .dataframe thead th {\n",
       "        text-align: right;\n",
       "    }\n",
       "</style>\n",
       "<table border=\"1\" class=\"dataframe\">\n",
       "  <thead>\n",
       "    <tr style=\"text-align: right;\">\n",
       "      <th></th>\n",
       "      <th>genre_ids</th>\n",
       "      <th>original_language</th>\n",
       "      <th>original_title</th>\n",
       "      <th>popularity</th>\n",
       "      <th>release_date</th>\n",
       "      <th>title</th>\n",
       "      <th>vote_average</th>\n",
       "      <th>vote_count</th>\n",
       "    </tr>\n",
       "    <tr>\n",
       "      <th>id</th>\n",
       "      <th></th>\n",
       "      <th></th>\n",
       "      <th></th>\n",
       "      <th></th>\n",
       "      <th></th>\n",
       "      <th></th>\n",
       "      <th></th>\n",
       "      <th></th>\n",
       "    </tr>\n",
       "  </thead>\n",
       "  <tbody>\n",
       "    <tr>\n",
       "      <td>12444</td>\n",
       "      <td>[12, 14, 10751]</td>\n",
       "      <td>en</td>\n",
       "      <td>Harry Potter and the Deathly Hallows: Part 1</td>\n",
       "      <td>33.533</td>\n",
       "      <td>2010-11-19</td>\n",
       "      <td>Harry Potter and the Deathly Hallows: Part 1</td>\n",
       "      <td>7.7</td>\n",
       "      <td>10788</td>\n",
       "    </tr>\n",
       "    <tr>\n",
       "      <td>10191</td>\n",
       "      <td>[14, 12, 16, 10751]</td>\n",
       "      <td>en</td>\n",
       "      <td>How to Train Your Dragon</td>\n",
       "      <td>28.734</td>\n",
       "      <td>2010-03-26</td>\n",
       "      <td>How to Train Your Dragon</td>\n",
       "      <td>7.7</td>\n",
       "      <td>7610</td>\n",
       "    </tr>\n",
       "    <tr>\n",
       "      <td>10138</td>\n",
       "      <td>[12, 28, 878]</td>\n",
       "      <td>en</td>\n",
       "      <td>Iron Man 2</td>\n",
       "      <td>28.515</td>\n",
       "      <td>2010-05-07</td>\n",
       "      <td>Iron Man 2</td>\n",
       "      <td>6.8</td>\n",
       "      <td>12368</td>\n",
       "    </tr>\n",
       "    <tr>\n",
       "      <td>862</td>\n",
       "      <td>[16, 35, 10751]</td>\n",
       "      <td>en</td>\n",
       "      <td>Toy Story</td>\n",
       "      <td>28.005</td>\n",
       "      <td>1995-11-22</td>\n",
       "      <td>Toy Story</td>\n",
       "      <td>7.9</td>\n",
       "      <td>10174</td>\n",
       "    </tr>\n",
       "    <tr>\n",
       "      <td>27205</td>\n",
       "      <td>[28, 878, 12]</td>\n",
       "      <td>en</td>\n",
       "      <td>Inception</td>\n",
       "      <td>27.920</td>\n",
       "      <td>2010-07-16</td>\n",
       "      <td>Inception</td>\n",
       "      <td>8.3</td>\n",
       "      <td>22186</td>\n",
       "    </tr>\n",
       "    <tr>\n",
       "      <td>...</td>\n",
       "      <td>...</td>\n",
       "      <td>...</td>\n",
       "      <td>...</td>\n",
       "      <td>...</td>\n",
       "      <td>...</td>\n",
       "      <td>...</td>\n",
       "      <td>...</td>\n",
       "      <td>...</td>\n",
       "    </tr>\n",
       "    <tr>\n",
       "      <td>488143</td>\n",
       "      <td>[27, 18]</td>\n",
       "      <td>en</td>\n",
       "      <td>Laboratory Conditions</td>\n",
       "      <td>0.600</td>\n",
       "      <td>2018-10-13</td>\n",
       "      <td>Laboratory Conditions</td>\n",
       "      <td>0.0</td>\n",
       "      <td>1</td>\n",
       "    </tr>\n",
       "    <tr>\n",
       "      <td>485975</td>\n",
       "      <td>[18, 53]</td>\n",
       "      <td>en</td>\n",
       "      <td>_EXHIBIT_84xxx_</td>\n",
       "      <td>0.600</td>\n",
       "      <td>2018-05-01</td>\n",
       "      <td>_EXHIBIT_84xxx_</td>\n",
       "      <td>0.0</td>\n",
       "      <td>1</td>\n",
       "    </tr>\n",
       "    <tr>\n",
       "      <td>381231</td>\n",
       "      <td>[14, 28, 12]</td>\n",
       "      <td>en</td>\n",
       "      <td>The Last One</td>\n",
       "      <td>0.600</td>\n",
       "      <td>2018-10-01</td>\n",
       "      <td>The Last One</td>\n",
       "      <td>0.0</td>\n",
       "      <td>1</td>\n",
       "    </tr>\n",
       "    <tr>\n",
       "      <td>366854</td>\n",
       "      <td>[10751, 12, 28]</td>\n",
       "      <td>en</td>\n",
       "      <td>Trailer Made</td>\n",
       "      <td>0.600</td>\n",
       "      <td>2018-06-22</td>\n",
       "      <td>Trailer Made</td>\n",
       "      <td>0.0</td>\n",
       "      <td>1</td>\n",
       "    </tr>\n",
       "    <tr>\n",
       "      <td>309885</td>\n",
       "      <td>[53, 27]</td>\n",
       "      <td>en</td>\n",
       "      <td>The Church</td>\n",
       "      <td>0.600</td>\n",
       "      <td>2018-10-05</td>\n",
       "      <td>The Church</td>\n",
       "      <td>0.0</td>\n",
       "      <td>1</td>\n",
       "    </tr>\n",
       "  </tbody>\n",
       "</table>\n",
       "<p>26517 rows × 8 columns</p>\n",
       "</div>"
      ],
      "text/plain": [
       "                  genre_ids original_language  \\\n",
       "id                                              \n",
       "12444       [12, 14, 10751]                en   \n",
       "10191   [14, 12, 16, 10751]                en   \n",
       "10138         [12, 28, 878]                en   \n",
       "862         [16, 35, 10751]                en   \n",
       "27205         [28, 878, 12]                en   \n",
       "...                     ...               ...   \n",
       "488143             [27, 18]                en   \n",
       "485975             [18, 53]                en   \n",
       "381231         [14, 28, 12]                en   \n",
       "366854      [10751, 12, 28]                en   \n",
       "309885             [53, 27]                en   \n",
       "\n",
       "                                      original_title  popularity release_date  \\\n",
       "id                                                                              \n",
       "12444   Harry Potter and the Deathly Hallows: Part 1      33.533   2010-11-19   \n",
       "10191                       How to Train Your Dragon      28.734   2010-03-26   \n",
       "10138                                     Iron Man 2      28.515   2010-05-07   \n",
       "862                                        Toy Story      28.005   1995-11-22   \n",
       "27205                                      Inception      27.920   2010-07-16   \n",
       "...                                              ...         ...          ...   \n",
       "488143                         Laboratory Conditions       0.600   2018-10-13   \n",
       "485975                               _EXHIBIT_84xxx_       0.600   2018-05-01   \n",
       "381231                                  The Last One       0.600   2018-10-01   \n",
       "366854                                  Trailer Made       0.600   2018-06-22   \n",
       "309885                                    The Church       0.600   2018-10-05   \n",
       "\n",
       "                                               title  vote_average  vote_count  \n",
       "id                                                                              \n",
       "12444   Harry Potter and the Deathly Hallows: Part 1           7.7       10788  \n",
       "10191                       How to Train Your Dragon           7.7        7610  \n",
       "10138                                     Iron Man 2           6.8       12368  \n",
       "862                                        Toy Story           7.9       10174  \n",
       "27205                                      Inception           8.3       22186  \n",
       "...                                              ...           ...         ...  \n",
       "488143                         Laboratory Conditions           0.0           1  \n",
       "485975                               _EXHIBIT_84xxx_           0.0           1  \n",
       "381231                                  The Last One           0.0           1  \n",
       "366854                                  Trailer Made           0.0           1  \n",
       "309885                                    The Church           0.0           1  \n",
       "\n",
       "[26517 rows x 8 columns]"
      ]
     },
     "execution_count": 22,
     "metadata": {},
     "output_type": "execute_result"
    }
   ],
   "source": [
    "tmdb_movies_df.drop('Unnamed: 0', axis=1, inplace=True)\n",
    "tmdb_movies_df.set_index('id')\n",
    "# quick_check(tmdb_movies_df)"
   ]
  },
  {
   "cell_type": "code",
   "execution_count": 23,
   "metadata": {},
   "outputs": [],
   "source": [
    "tmdb_movies_df.drop_duplicates(keep='first',inplace=True)\n",
    "# quick_check(tmdb_movies_df)"
   ]
  },
  {
   "cell_type": "code",
   "execution_count": 24,
   "metadata": {
    "scrolled": true
   },
   "outputs": [],
   "source": [
    "tn_budgets_df['production_budget'] = column_type_changer('production_budget', tn_budgets_df)\n",
    "tn_budgets_df['domestic_gross'] = column_type_changer('domestic_gross', tn_budgets_df)\n",
    "tn_budgets_df['worldwide_gross'] = column_type_changer('worldwide_gross', tn_budgets_df)\n",
    "# quick_check(tn_budgets_df)"
   ]
  },
  {
   "cell_type": "markdown",
   "metadata": {},
   "source": [
    "---"
   ]
  },
  {
   "cell_type": "markdown",
   "metadata": {},
   "source": [
    "# Creating the Database\n",
    "It is necessary to create a database first to tie all of the previous data together and to allow for queries.\n",
    "\n",
    "In order to utilize the dataframes that have already been created to push them to the databases, the to_sql function of pandas will be used. This requires an engine to be generated, which uses SQLAlchemy, a tool that was imported previously."
   ]
  },
  {
   "cell_type": "code",
   "execution_count": 25,
   "metadata": {},
   "outputs": [],
   "source": [
    "# Create the movies database\n",
    "conn = sqlite3.connect('movies.sqlite')\n",
    "cur = conn.cursor()\n",
    "engine = create_engine('sqlite:///movies.sqlite', echo=False)"
   ]
  },
  {
   "cell_type": "markdown",
   "metadata": {},
   "source": [
    "Above, a database was created, then a cursor was created in order to allow for future exploration and querying of data. After that, an engine was created to allow for the input of data, which connects to the previously-generated database.\n",
    "\n",
    "In the below cells, the dataframes will be converted to sqlite tables in order to be better queried. This will allow for joining on various columns/keys, as will be explained in the future."
   ]
  },
  {
   "cell_type": "code",
   "execution_count": 26,
   "metadata": {
    "scrolled": true
   },
   "outputs": [],
   "source": [
    "table_creator(im_basics_df,'movies')"
   ]
  },
  {
   "cell_type": "code",
   "execution_count": 27,
   "metadata": {},
   "outputs": [],
   "source": [
    "table_creator(im_n_basics_df,'workers')"
   ]
  },
  {
   "cell_type": "code",
   "execution_count": 28,
   "metadata": {},
   "outputs": [],
   "source": [
    "table_creator(im_akas_df,'movieNames')"
   ]
  },
  {
   "cell_type": "code",
   "execution_count": 29,
   "metadata": {
    "scrolled": true
   },
   "outputs": [],
   "source": [
    "table_creator(im_principals_df,'principals')"
   ]
  },
  {
   "cell_type": "code",
   "execution_count": 30,
   "metadata": {},
   "outputs": [],
   "source": [
    "table_creator(rt_movie_info_df,'RTMovies')"
   ]
  },
  {
   "cell_type": "code",
   "execution_count": 31,
   "metadata": {},
   "outputs": [],
   "source": [
    "table_creator(rt_reviews_df,'RTReviews')"
   ]
  },
  {
   "cell_type": "code",
   "execution_count": 32,
   "metadata": {},
   "outputs": [],
   "source": [
    "table_creator(tmdb_movies_df,'TMDbMovies')"
   ]
  },
  {
   "cell_type": "code",
   "execution_count": 33,
   "metadata": {},
   "outputs": [],
   "source": [
    "table_creator(tn_budgets_df, 'TNBudgets')"
   ]
  },
  {
   "cell_type": "markdown",
   "metadata": {},
   "source": [
    "---"
   ]
  },
  {
   "cell_type": "markdown",
   "metadata": {},
   "source": [
    "# Visualizations"
   ]
  },
  {
   "cell_type": "code",
   "execution_count": 34,
   "metadata": {},
   "outputs": [],
   "source": [
    "cmap = sns.cubehelix_palette(dark=.3, light=.8, as_cmap=True)\n",
    "\n",
    "sns.set_palette(sns.cubehelix_palette(8))\n",
    "sns.set_context(\"talk\")\n",
    "sns.set(rc={'figure.figsize':(10,8)})\n",
    "# Color for plots = #2C1E3D"
   ]
  },
  {
   "cell_type": "markdown",
   "metadata": {},
   "source": [
    "### Content Data Visualization\n",
    "First, it is important to detemine what types of content are doing well, in terms of both audience and genre. Filtering by rating and genre should give the results needed to determine the best course of action.\n",
    "\n",
    "Not only will this allow for better content creation from the start, it will also allow for better personnel choices in the long run, as certain directors do better with certain genres."
   ]
  },
  {
   "cell_type": "code",
   "execution_count": 35,
   "metadata": {},
   "outputs": [],
   "source": [
    "cur.execute(\"\"\"SELECT rating,\n",
    "                      genre,\n",
    "                      box_office\n",
    "               from RTMovies\n",
    "               ORDER BY box_office DESC\n",
    "               LIMIT 500;\n",
    "               \"\"\")\n",
    "content_df = make_dataframe()"
   ]
  },
  {
   "cell_type": "code",
   "execution_count": 37,
   "metadata": {},
   "outputs": [
    {
     "name": "stdout",
     "output_type": "stream",
     "text": [
      "<class 'pandas.core.frame.DataFrame'>\n",
      "Int64Index: 1120 entries, 0 to 0\n",
      "Data columns (total 1 columns):\n",
      "genres    1120 non-null object\n",
      "dtypes: object(1)\n",
      "memory usage: 17.5+ KB\n"
     ]
    }
   ],
   "source": [
    "rough_genre_data = pd.DataFrame()\n",
    "for item in content_df['genre']:\n",
    "    if type(item) is str:\n",
    "        genres = item.split(\"|\")\n",
    "        for genre in genres:\n",
    "            genre_temp = pd.DataFrame({'genres':genre},index=[0])\n",
    "            rough_genre_data = rough_genre_data.append(genre_temp)\n",
    "    else:\n",
    "        pass\n",
    "    \n",
    "rough_genre_data.groupby(['genres']).head()\n",
    "\n",
    "rough_genre_data.info()"
   ]
  },
  {
   "cell_type": "code",
   "execution_count": 38,
   "metadata": {},
   "outputs": [
    {
     "data": {
      "text/html": [
       "<div>\n",
       "<style scoped>\n",
       "    .dataframe tbody tr th:only-of-type {\n",
       "        vertical-align: middle;\n",
       "    }\n",
       "\n",
       "    .dataframe tbody tr th {\n",
       "        vertical-align: top;\n",
       "    }\n",
       "\n",
       "    .dataframe thead th {\n",
       "        text-align: right;\n",
       "    }\n",
       "</style>\n",
       "<table border=\"1\" class=\"dataframe\">\n",
       "  <thead>\n",
       "    <tr style=\"text-align: right;\">\n",
       "      <th></th>\n",
       "      <th>genres</th>\n",
       "    </tr>\n",
       "  </thead>\n",
       "  <tbody>\n",
       "    <tr>\n",
       "      <td>0</td>\n",
       "      <td>Action,Drama,War</td>\n",
       "    </tr>\n",
       "    <tr>\n",
       "      <td>1</td>\n",
       "      <td>Action,Adventure,Sci-Fi</td>\n",
       "    </tr>\n",
       "    <tr>\n",
       "      <td>2</td>\n",
       "      <td>Action,Adventure,Sci-Fi</td>\n",
       "    </tr>\n",
       "    <tr>\n",
       "      <td>3</td>\n",
       "      <td>Adventure,Drama,Sci-Fi</td>\n",
       "    </tr>\n",
       "    <tr>\n",
       "      <td>4</td>\n",
       "      <td>Biography,Comedy,Drama</td>\n",
       "    </tr>\n",
       "  </tbody>\n",
       "</table>\n",
       "</div>"
      ],
      "text/plain": [
       "                    genres\n",
       "0         Action,Drama,War\n",
       "1  Action,Adventure,Sci-Fi\n",
       "2  Action,Adventure,Sci-Fi\n",
       "3   Adventure,Drama,Sci-Fi\n",
       "4   Biography,Comedy,Drama"
      ]
     },
     "execution_count": 38,
     "metadata": {},
     "output_type": "execute_result"
    }
   ],
   "source": [
    "cur.execute(\"\"\"SELECT genres         \n",
    "               from movies\n",
    "               WHERE (numvotes > 100000)\n",
    "               ORDER BY averagerating DESC\n",
    "               LIMIT 250;\n",
    "               \"\"\")\n",
    "genres_df2 = make_dataframe()\n",
    "genres_df2.head()"
   ]
  },
  {
   "cell_type": "code",
   "execution_count": 39,
   "metadata": {},
   "outputs": [
    {
     "name": "stdout",
     "output_type": "stream",
     "text": [
      "['Action and Adventure' 'Drama' 'Science Fiction and Fantasy' 'Biography'\n",
      " 'Comedy' 'Musical and Performing Arts' 'Animation' 'Horror and Thriller'\n",
      " 'Western' 'Mystery, Crime, and Suspense' 'Sports and Fitness' 'History'\n",
      " 'Romance' 'Kids and Family' 'Documentary' 'Special Interest']\n"
     ]
    },
    {
     "data": {
      "text/html": [
       "<div>\n",
       "<style scoped>\n",
       "    .dataframe tbody tr th:only-of-type {\n",
       "        vertical-align: middle;\n",
       "    }\n",
       "\n",
       "    .dataframe tbody tr th {\n",
       "        vertical-align: top;\n",
       "    }\n",
       "\n",
       "    .dataframe thead th {\n",
       "        text-align: right;\n",
       "    }\n",
       "</style>\n",
       "<table border=\"1\" class=\"dataframe\">\n",
       "  <thead>\n",
       "    <tr style=\"text-align: right;\">\n",
       "      <th></th>\n",
       "      <th>genres</th>\n",
       "      <th>counts</th>\n",
       "    </tr>\n",
       "  </thead>\n",
       "  <tbody>\n",
       "    <tr>\n",
       "      <td>0</td>\n",
       "      <td>Action and Adventure</td>\n",
       "      <td>284</td>\n",
       "    </tr>\n",
       "    <tr>\n",
       "      <td>0</td>\n",
       "      <td>Drama</td>\n",
       "      <td>449</td>\n",
       "    </tr>\n",
       "    <tr>\n",
       "      <td>0</td>\n",
       "      <td>Science Fiction and Fantasy</td>\n",
       "      <td>103</td>\n",
       "    </tr>\n",
       "    <tr>\n",
       "      <td>0</td>\n",
       "      <td>Biography</td>\n",
       "      <td>39</td>\n",
       "    </tr>\n",
       "    <tr>\n",
       "      <td>0</td>\n",
       "      <td>Comedy</td>\n",
       "      <td>258</td>\n",
       "    </tr>\n",
       "    <tr>\n",
       "      <td>0</td>\n",
       "      <td>Musical and Performing Arts</td>\n",
       "      <td>43</td>\n",
       "    </tr>\n",
       "    <tr>\n",
       "      <td>0</td>\n",
       "      <td>Animation</td>\n",
       "      <td>51</td>\n",
       "    </tr>\n",
       "    <tr>\n",
       "      <td>0</td>\n",
       "      <td>Horror and Thriller</td>\n",
       "      <td>102</td>\n",
       "    </tr>\n",
       "    <tr>\n",
       "      <td>0</td>\n",
       "      <td>Western</td>\n",
       "      <td>11</td>\n",
       "    </tr>\n",
       "    <tr>\n",
       "      <td>0</td>\n",
       "      <td>Mystery, Crime, and Suspense</td>\n",
       "      <td>159</td>\n",
       "    </tr>\n",
       "    <tr>\n",
       "      <td>0</td>\n",
       "      <td>Sports and Fitness</td>\n",
       "      <td>8</td>\n",
       "    </tr>\n",
       "    <tr>\n",
       "      <td>0</td>\n",
       "      <td>History</td>\n",
       "      <td>16</td>\n",
       "    </tr>\n",
       "    <tr>\n",
       "      <td>0</td>\n",
       "      <td>Romance</td>\n",
       "      <td>87</td>\n",
       "    </tr>\n",
       "    <tr>\n",
       "      <td>0</td>\n",
       "      <td>Kids and Family</td>\n",
       "      <td>47</td>\n",
       "    </tr>\n",
       "    <tr>\n",
       "      <td>0</td>\n",
       "      <td>Documentary</td>\n",
       "      <td>18</td>\n",
       "    </tr>\n",
       "    <tr>\n",
       "      <td>0</td>\n",
       "      <td>Special Interest</td>\n",
       "      <td>121</td>\n",
       "    </tr>\n",
       "  </tbody>\n",
       "</table>\n",
       "</div>"
      ],
      "text/plain": [
       "                         genres  counts\n",
       "0          Action and Adventure     284\n",
       "0                         Drama     449\n",
       "0   Science Fiction and Fantasy     103\n",
       "0                     Biography      39\n",
       "0                        Comedy     258\n",
       "0   Musical and Performing Arts      43\n",
       "0                     Animation      51\n",
       "0           Horror and Thriller     102\n",
       "0                       Western      11\n",
       "0  Mystery, Crime, and Suspense     159\n",
       "0            Sports and Fitness       8\n",
       "0                       History      16\n",
       "0                       Romance      87\n",
       "0               Kids and Family      47\n",
       "0                   Documentary      18\n",
       "0              Special Interest     121"
      ]
     },
     "execution_count": 39,
     "metadata": {},
     "output_type": "execute_result"
    }
   ],
   "source": [
    "genres_data = pd.DataFrame()\n",
    "for item in genres_df2['genres']:\n",
    "    if type(item) is str:\n",
    "        genres = item.split(\",\")\n",
    "        for genre in genres:\n",
    "            genre_temp = pd.DataFrame({'genres':genre},index=[0])\n",
    "            genres_data = genres_data.append(genre_temp)\n",
    "    else:\n",
    "        pass\n",
    "    \n",
    "genres_data = genres_data.append(rough_genre_data)\n",
    "\n",
    "# Data Cleaning\n",
    "genres_data.replace(['Action', 'Adventure'],'Action and Adventure', inplace=True)\n",
    "genres_data.replace(['Sci-Fi', 'Fantasy'], 'Science Fiction and Fantasy', inplace=True)\n",
    "genres_data.replace(['Mystery', 'Crime', 'Mystery and Suspense'], 'Mystery, Crime, and Suspense', inplace=True)\n",
    "genres_data.replace('Sport', 'Sports and Fitness', inplace=True)\n",
    "genres_data.replace(['Thriller','Horror'], 'Horror and Thriller', inplace=True)\n",
    "genres_data.replace('Family', 'Kids and Family', inplace=True)\n",
    "genres_data.replace('War', 'Drama', inplace=True)\n",
    "genres_data.replace(['Music','Musical'], 'Musical and Performing Arts', inplace=True)\n",
    "genres_data.replace(['Art House and International','Faith and Spirituality', 'Cult Movies', 'Classics', 'Television'], 'Special Interest', inplace=True)\n",
    "\n",
    "counts = genres_data['genres'].value_counts()\n",
    "counts1 = counts.to_dict()\n",
    "genres_data['counts'] = genres_data['genres'].map(counts1)\n",
    "genres_data['counts'].sort_values()\n",
    "\n",
    "genres_data.drop_duplicates(inplace=True)\n",
    "\n",
    "print(genres_data['genres'].unique())\n",
    "\n",
    "genres_data\n",
    "\n"
   ]
  },
  {
   "cell_type": "code",
   "execution_count": 40,
   "metadata": {},
   "outputs": [
    {
     "data": {
      "image/png": "[encoded data removed]",
      "text/plain": [
       "<Figure size 720x576 with 1 Axes>"
      ]
     },
     "metadata": {},
     "output_type": "display_data"
    }
   ],
   "source": [
    "genre_plot = sns.barplot(x=genres_data['counts'], \n",
    "                         y=genres_data['genres'], \n",
    "                         palette=sns.cubehelix_palette(8),\n",
    "                        )"
   ]
  },
  {
   "cell_type": "markdown",
   "metadata": {},
   "source": [
    "Ratings are also important, as it determines the ages of the audience that can view the movies. While ratings do change based on locale, Microsoft is a specifically US-based company, and so this project will focus on US-based ratings."
   ]
  },
  {
   "cell_type": "code",
   "execution_count": 41,
   "metadata": {},
   "outputs": [
    {
     "name": "stdout",
     "output_type": "stream",
     "text": [
      "['G' 'PG' 'PG-13' 'R']\n"
     ]
    },
    {
     "data": {
      "text/html": [
       "<div>\n",
       "<style scoped>\n",
       "    .dataframe tbody tr th:only-of-type {\n",
       "        vertical-align: middle;\n",
       "    }\n",
       "\n",
       "    .dataframe tbody tr th {\n",
       "        vertical-align: top;\n",
       "    }\n",
       "\n",
       "    .dataframe thead th {\n",
       "        text-align: right;\n",
       "    }\n",
       "</style>\n",
       "<table border=\"1\" class=\"dataframe\">\n",
       "  <thead>\n",
       "    <tr style=\"text-align: right;\">\n",
       "      <th></th>\n",
       "      <th>ratings</th>\n",
       "      <th>counts</th>\n",
       "    </tr>\n",
       "  </thead>\n",
       "  <tbody>\n",
       "    <tr>\n",
       "      <td>35</td>\n",
       "      <td>G</td>\n",
       "      <td>17</td>\n",
       "    </tr>\n",
       "    <tr>\n",
       "      <td>4</td>\n",
       "      <td>PG</td>\n",
       "      <td>73</td>\n",
       "    </tr>\n",
       "    <tr>\n",
       "      <td>1</td>\n",
       "      <td>PG-13</td>\n",
       "      <td>129</td>\n",
       "    </tr>\n",
       "    <tr>\n",
       "      <td>0</td>\n",
       "      <td>R</td>\n",
       "      <td>199</td>\n",
       "    </tr>\n",
       "  </tbody>\n",
       "</table>\n",
       "</div>"
      ],
      "text/plain": [
       "   ratings  counts\n",
       "35       G      17\n",
       "4       PG      73\n",
       "1    PG-13     129\n",
       "0        R     199"
      ]
     },
     "execution_count": 41,
     "metadata": {},
     "output_type": "execute_result"
    }
   ],
   "source": [
    "ratings_df = pd.DataFrame()\n",
    "ind = 0\n",
    "for item in content_df['rating']:\n",
    "    if type(item) is str:\n",
    "        rating_temp = pd.DataFrame({'ratings':item},index=[ind])\n",
    "        ratings_df = ratings_df.append(rating_temp)\n",
    "        ind +=1\n",
    "    else:\n",
    "        pass    \n",
    "\n",
    "counts = ratings_df['ratings'].value_counts()\n",
    "counts1 = counts.to_dict()\n",
    "\n",
    "ratings_df['counts'] = ratings_df['ratings'].map(counts1)\n",
    "ratings_df['counts'].sort_values()\n",
    "\n",
    "ratings_df.drop_duplicates(inplace=True)\n",
    "ratings_df = ratings_df.drop([119,268])\n",
    "ratings_df = ratings_df.iloc[::-1]\n",
    "\n",
    "print(ratings_df['ratings'].unique())\n",
    "\n",
    "ratings_df\n",
    "\n"
   ]
  },
  {
   "cell_type": "code",
   "execution_count": 42,
   "metadata": {},
   "outputs": [
    {
     "data": {
      "image/png": "[encoded data removed]",
      "text/plain": [
       "<Figure size 720x576 with 1 Axes>"
      ]
     },
     "metadata": {},
     "output_type": "display_data"
    }
   ],
   "source": [
    "genre_plot = sns.barplot(x=ratings_df['ratings'], \n",
    "                         y=ratings_df['counts'], \n",
    "                         palette=sns.cubehelix_palette(8),\n",
    "                         \n",
    "                        )"
   ]
  },
  {
   "cell_type": "code",
   "execution_count": null,
   "metadata": {},
   "outputs": [],
   "source": []
  },
  {
   "cell_type": "markdown",
   "metadata": {},
   "source": [
    "### Personnel Data Visualization\n",
    "To determine who the company wants to bring on for this project, filtering by rating would be ideal, cross referencing by number of votes in order to also limit the search to widely-watched movies."
   ]
  },
  {
   "cell_type": "code",
   "execution_count": 43,
   "metadata": {},
   "outputs": [
    {
     "name": "stdout",
     "output_type": "stream",
     "text": [
      "<class 'pandas.core.frame.DataFrame'>\n",
      "RangeIndex: 100 entries, 0 to 99\n",
      "Data columns (total 8 columns):\n",
      "tconst                100 non-null object\n",
      "primary_title         100 non-null object\n",
      "averagerating         100 non-null float64\n",
      "numvotes              100 non-null int64\n",
      "category              100 non-null object\n",
      "genres                100 non-null object\n",
      "primary_name          100 non-null object\n",
      "primary_profession    100 non-null object\n",
      "dtypes: float64(1), int64(1), object(6)\n",
      "memory usage: 6.4+ KB\n"
     ]
    }
   ],
   "source": [
    "cur.execute(\"\"\"SELECT tconst, \n",
    "                      primary_title, \n",
    "                      averagerating, \n",
    "                      numvotes,\n",
    "                      category,\n",
    "                      genres,\n",
    "                      primary_name,\n",
    "                      primary_profession            \n",
    "               from movies\n",
    "               JOIN principals using(tconst)\n",
    "               JOIN workers using(nconst)\n",
    "               WHERE (numvotes > 100000 AND\n",
    "                      (category is \"writer\"))\n",
    "               ORDER BY averagerating DESC\n",
    "               LIMIT 100;\n",
    "               \"\"\")\n",
    "writers_df = make_dataframe()\n",
    "writers_df.info()"
   ]
  },
  {
   "cell_type": "code",
   "execution_count": 44,
   "metadata": {},
   "outputs": [
    {
     "data": {
      "text/plain": [
       "array(['Jack Kirby', 'Christopher Markus', 'Stephen McFeely', 'Stan Lee',\n",
       "       'Jonathan Nolan', 'Philippe Pozzo di Borgo', 'Phil Lord',\n",
       "       'Piyush Gupta', 'Shreyas Jain', 'Nikhil Mehrotra',\n",
       "       'Rajshri Sudhakar', 'David S. Goyer', 'Bob Kane', 'Jason Katz',\n",
       "       'Matthew Aldrich', 'Clark Cheng', 'Tobias Lindholm',\n",
       "       'Wajdi Mouawad', 'Valérie Beaugrand-Champagne', 'John Lasseter',\n",
       "       'Andrew Stanton', 'Michael Arndt', 'Nick Vallelonga',\n",
       "       'Brian Hayes Currie', 'Simon Rich', 'Meg LeFauve', 'Josh Cooley',\n",
       "       'Anthony Tambakis', 'Cliff Dorfman', 'Terence Winter',\n",
       "       'Jordan Belfort', 'Abhijat Joshi', 'Emma Donoghue', 'Keith Giffen',\n",
       "       'Nicole Perlman', 'Dan Abnett', 'Andy Lanning', 'Bill Mantlo',\n",
       "       'Josh Singer', 'Robert Schenkkan', 'Andrew Knight',\n",
       "       'Kathryn Stockett', 'Peter Morgan', 'Adam F. Goldberg',\n",
       "       'William Davies', 'Cressida Cowell', 'Marc Hyman',\n",
       "       'Laeta Kalogridis', 'Dennis Lehane', 'Brendan McCarthy',\n",
       "       'Nick Lathouris', 'John Ridley', 'Solomon Northup', 'Zak Penn',\n",
       "       'Stefan Zweig', 'Hugo Guinness', 'Aaron Guzikowski',\n",
       "       'Steve Kloves', 'J.K. Rowling', 'Gillian Flynn', 'Saroo Brierley',\n",
       "       'Luke Davies', 'Germán Servidio', 'Len Wein', 'Scott Frank',\n",
       "       'Michael Green', 'John Romita Sr.', 'Roy Thomas', 'Craig Borten',\n",
       "       'Melisa Wallack', 'Anthony McCarten', 'Rhett Reese',\n",
       "       'Paul Wernick', 'Mark Heyman', 'Andres Heinz',\n",
       "       'John J. McLaughlin', 'Simon Kinberg', 'Jane Goldman',\n",
       "       'Matthew Vaughn', 'David Seidler', 'Graham Moore', 'Andrew Hodges',\n",
       "       'Mark L. Smith', 'Michael Punke', 'Hampton Fancher',\n",
       "       'Philip K. Dick', 'Drew Goddard', 'Andy Weir', 'Steve Conrad',\n",
       "       'Jack Thorne'], dtype=object)"
      ]
     },
     "execution_count": 44,
     "metadata": {},
     "output_type": "execute_result"
    }
   ],
   "source": [
    "writers_df.set_index('primary_name')\n",
    "writers_df.groupby('primary_name').count()\n",
    "writers_df['primary_name'].unique()"
   ]
  },
  {
   "cell_type": "code",
   "execution_count": null,
   "metadata": {},
   "outputs": [],
   "source": []
  },
  {
   "cell_type": "code",
   "execution_count": 45,
   "metadata": {},
   "outputs": [
    {
     "data": {
      "text/html": [
       "<div>\n",
       "<style scoped>\n",
       "    .dataframe tbody tr th:only-of-type {\n",
       "        vertical-align: middle;\n",
       "    }\n",
       "\n",
       "    .dataframe tbody tr th {\n",
       "        vertical-align: top;\n",
       "    }\n",
       "\n",
       "    .dataframe thead th {\n",
       "        text-align: right;\n",
       "    }\n",
       "</style>\n",
       "<table border=\"1\" class=\"dataframe\">\n",
       "  <thead>\n",
       "    <tr style=\"text-align: right;\">\n",
       "      <th></th>\n",
       "      <th>tconst</th>\n",
       "      <th>primary_title</th>\n",
       "      <th>averagerating</th>\n",
       "      <th>numvotes</th>\n",
       "      <th>category</th>\n",
       "      <th>genres</th>\n",
       "      <th>primary_name</th>\n",
       "      <th>primary_profession</th>\n",
       "    </tr>\n",
       "  </thead>\n",
       "  <tbody>\n",
       "    <tr>\n",
       "      <td>0</td>\n",
       "      <td>tt5813916</td>\n",
       "      <td>The Mountain II</td>\n",
       "      <td>9.3</td>\n",
       "      <td>100568</td>\n",
       "      <td>director</td>\n",
       "      <td>Action,Drama,War</td>\n",
       "      <td>Alper Caglar</td>\n",
       "      <td>producer,writer,editor</td>\n",
       "    </tr>\n",
       "    <tr>\n",
       "      <td>1</td>\n",
       "      <td>tt1375666</td>\n",
       "      <td>Inception</td>\n",
       "      <td>8.8</td>\n",
       "      <td>1841066</td>\n",
       "      <td>director</td>\n",
       "      <td>Action,Adventure,Sci-Fi</td>\n",
       "      <td>Christopher Nolan</td>\n",
       "      <td>writer,producer,director</td>\n",
       "    </tr>\n",
       "    <tr>\n",
       "      <td>2</td>\n",
       "      <td>tt4154796</td>\n",
       "      <td>Avengers: Endgame</td>\n",
       "      <td>8.8</td>\n",
       "      <td>441135</td>\n",
       "      <td>director</td>\n",
       "      <td>Action,Adventure,Sci-Fi</td>\n",
       "      <td>Anthony Russo</td>\n",
       "      <td>producer,director,writer</td>\n",
       "    </tr>\n",
       "    <tr>\n",
       "      <td>3</td>\n",
       "      <td>tt4154796</td>\n",
       "      <td>Avengers: Endgame</td>\n",
       "      <td>8.8</td>\n",
       "      <td>441135</td>\n",
       "      <td>director</td>\n",
       "      <td>Action,Adventure,Sci-Fi</td>\n",
       "      <td>Joe Russo</td>\n",
       "      <td>producer,director,writer</td>\n",
       "    </tr>\n",
       "    <tr>\n",
       "      <td>4</td>\n",
       "      <td>tt0816692</td>\n",
       "      <td>Interstellar</td>\n",
       "      <td>8.6</td>\n",
       "      <td>1299334</td>\n",
       "      <td>director</td>\n",
       "      <td>Adventure,Drama,Sci-Fi</td>\n",
       "      <td>Christopher Nolan</td>\n",
       "      <td>writer,producer,director</td>\n",
       "    </tr>\n",
       "  </tbody>\n",
       "</table>\n",
       "</div>"
      ],
      "text/plain": [
       "      tconst      primary_title  averagerating  numvotes  category  \\\n",
       "0  tt5813916    The Mountain II            9.3    100568  director   \n",
       "1  tt1375666          Inception            8.8   1841066  director   \n",
       "2  tt4154796  Avengers: Endgame            8.8    441135  director   \n",
       "3  tt4154796  Avengers: Endgame            8.8    441135  director   \n",
       "4  tt0816692       Interstellar            8.6   1299334  director   \n",
       "\n",
       "                    genres       primary_name        primary_profession  \n",
       "0         Action,Drama,War       Alper Caglar    producer,writer,editor  \n",
       "1  Action,Adventure,Sci-Fi  Christopher Nolan  writer,producer,director  \n",
       "2  Action,Adventure,Sci-Fi      Anthony Russo  producer,director,writer  \n",
       "3  Action,Adventure,Sci-Fi          Joe Russo  producer,director,writer  \n",
       "4   Adventure,Drama,Sci-Fi  Christopher Nolan  writer,producer,director  "
      ]
     },
     "execution_count": 45,
     "metadata": {},
     "output_type": "execute_result"
    }
   ],
   "source": [
    "cur.execute(\"\"\"SELECT tconst, \n",
    "                      primary_title, \n",
    "                      averagerating, \n",
    "                      numvotes,\n",
    "                      category,\n",
    "                      genres,\n",
    "                      primary_name,\n",
    "                      primary_profession            \n",
    "               from movies\n",
    "               JOIN principals using(tconst)\n",
    "               JOIN workers using(nconst)\n",
    "               WHERE (numvotes > 100000 AND\n",
    "                      (category is \"director\"))\n",
    "               ORDER BY averagerating DESC\n",
    "               LIMIT 100;\n",
    "               \"\"\")\n",
    "directors_df = make_dataframe()\n",
    "directors_df.head()"
   ]
  },
  {
   "cell_type": "code",
   "execution_count": 46,
   "metadata": {},
   "outputs": [
    {
     "data": {
      "text/html": [
       "<div>\n",
       "<style scoped>\n",
       "    .dataframe tbody tr th:only-of-type {\n",
       "        vertical-align: middle;\n",
       "    }\n",
       "\n",
       "    .dataframe tbody tr th {\n",
       "        vertical-align: top;\n",
       "    }\n",
       "\n",
       "    .dataframe thead th {\n",
       "        text-align: right;\n",
       "    }\n",
       "</style>\n",
       "<table border=\"1\" class=\"dataframe\">\n",
       "  <thead>\n",
       "    <tr style=\"text-align: right;\">\n",
       "      <th></th>\n",
       "      <th>tconst</th>\n",
       "      <th>primary_title</th>\n",
       "      <th>averagerating</th>\n",
       "      <th>numvotes</th>\n",
       "      <th>category</th>\n",
       "      <th>genres</th>\n",
       "      <th>primary_profession</th>\n",
       "    </tr>\n",
       "    <tr>\n",
       "      <th>primary_name</th>\n",
       "      <th></th>\n",
       "      <th></th>\n",
       "      <th></th>\n",
       "      <th></th>\n",
       "      <th></th>\n",
       "      <th></th>\n",
       "      <th></th>\n",
       "    </tr>\n",
       "  </thead>\n",
       "  <tbody>\n",
       "    <tr>\n",
       "      <td>Adam McKay</td>\n",
       "      <td>1</td>\n",
       "      <td>1</td>\n",
       "      <td>1</td>\n",
       "      <td>1</td>\n",
       "      <td>1</td>\n",
       "      <td>1</td>\n",
       "      <td>1</td>\n",
       "    </tr>\n",
       "    <tr>\n",
       "      <td>Adrian Molina</td>\n",
       "      <td>1</td>\n",
       "      <td>1</td>\n",
       "      <td>1</td>\n",
       "      <td>1</td>\n",
       "      <td>1</td>\n",
       "      <td>1</td>\n",
       "      <td>1</td>\n",
       "    </tr>\n",
       "    <tr>\n",
       "      <td>Alejandro G. Iñárritu</td>\n",
       "      <td>1</td>\n",
       "      <td>1</td>\n",
       "      <td>1</td>\n",
       "      <td>1</td>\n",
       "      <td>1</td>\n",
       "      <td>1</td>\n",
       "      <td>1</td>\n",
       "    </tr>\n",
       "    <tr>\n",
       "      <td>Alper Caglar</td>\n",
       "      <td>1</td>\n",
       "      <td>1</td>\n",
       "      <td>1</td>\n",
       "      <td>1</td>\n",
       "      <td>1</td>\n",
       "      <td>1</td>\n",
       "      <td>1</td>\n",
       "    </tr>\n",
       "    <tr>\n",
       "      <td>Ang Lee</td>\n",
       "      <td>1</td>\n",
       "      <td>1</td>\n",
       "      <td>1</td>\n",
       "      <td>1</td>\n",
       "      <td>1</td>\n",
       "      <td>1</td>\n",
       "      <td>1</td>\n",
       "    </tr>\n",
       "    <tr>\n",
       "      <td>...</td>\n",
       "      <td>...</td>\n",
       "      <td>...</td>\n",
       "      <td>...</td>\n",
       "      <td>...</td>\n",
       "      <td>...</td>\n",
       "      <td>...</td>\n",
       "      <td>...</td>\n",
       "    </tr>\n",
       "    <tr>\n",
       "      <td>Tim Miller</td>\n",
       "      <td>1</td>\n",
       "      <td>1</td>\n",
       "      <td>1</td>\n",
       "      <td>1</td>\n",
       "      <td>1</td>\n",
       "      <td>1</td>\n",
       "      <td>1</td>\n",
       "    </tr>\n",
       "    <tr>\n",
       "      <td>Tom Hooper</td>\n",
       "      <td>1</td>\n",
       "      <td>1</td>\n",
       "      <td>1</td>\n",
       "      <td>1</td>\n",
       "      <td>1</td>\n",
       "      <td>1</td>\n",
       "      <td>1</td>\n",
       "    </tr>\n",
       "    <tr>\n",
       "      <td>Tom McCarthy</td>\n",
       "      <td>1</td>\n",
       "      <td>1</td>\n",
       "      <td>1</td>\n",
       "      <td>1</td>\n",
       "      <td>1</td>\n",
       "      <td>1</td>\n",
       "      <td>1</td>\n",
       "    </tr>\n",
       "    <tr>\n",
       "      <td>Wes Anderson</td>\n",
       "      <td>3</td>\n",
       "      <td>3</td>\n",
       "      <td>3</td>\n",
       "      <td>3</td>\n",
       "      <td>3</td>\n",
       "      <td>3</td>\n",
       "      <td>3</td>\n",
       "    </tr>\n",
       "    <tr>\n",
       "      <td>Éric Toledano</td>\n",
       "      <td>1</td>\n",
       "      <td>1</td>\n",
       "      <td>1</td>\n",
       "      <td>1</td>\n",
       "      <td>1</td>\n",
       "      <td>1</td>\n",
       "      <td>1</td>\n",
       "    </tr>\n",
       "  </tbody>\n",
       "</table>\n",
       "<p>78 rows × 7 columns</p>\n",
       "</div>"
      ],
      "text/plain": [
       "                       tconst  primary_title  averagerating  numvotes  \\\n",
       "primary_name                                                            \n",
       "Adam McKay                  1              1              1         1   \n",
       "Adrian Molina               1              1              1         1   \n",
       "Alejandro G. Iñárritu       1              1              1         1   \n",
       "Alper Caglar                1              1              1         1   \n",
       "Ang Lee                     1              1              1         1   \n",
       "...                       ...            ...            ...       ...   \n",
       "Tim Miller                  1              1              1         1   \n",
       "Tom Hooper                  1              1              1         1   \n",
       "Tom McCarthy                1              1              1         1   \n",
       "Wes Anderson                3              3              3         3   \n",
       "Éric Toledano               1              1              1         1   \n",
       "\n",
       "                       category  genres  primary_profession  \n",
       "primary_name                                                 \n",
       "Adam McKay                    1       1                   1  \n",
       "Adrian Molina                 1       1                   1  \n",
       "Alejandro G. Iñárritu         1       1                   1  \n",
       "Alper Caglar                  1       1                   1  \n",
       "Ang Lee                       1       1                   1  \n",
       "...                         ...     ...                 ...  \n",
       "Tim Miller                    1       1                   1  \n",
       "Tom Hooper                    1       1                   1  \n",
       "Tom McCarthy                  1       1                   1  \n",
       "Wes Anderson                  3       3                   3  \n",
       "Éric Toledano                 1       1                   1  \n",
       "\n",
       "[78 rows x 7 columns]"
      ]
     },
     "execution_count": 46,
     "metadata": {},
     "output_type": "execute_result"
    }
   ],
   "source": [
    "directors_df.set_index('primary_name')\n",
    "directors_df.groupby('primary_name').count()"
   ]
  },
  {
   "cell_type": "markdown",
   "metadata": {},
   "source": [
    "As far as actors go, it may be worth it to look at lesser-known but more highly-rated actors in order to lower costs and promote new talent. To do this, the qualification for number of votes is lowered, while retaining all of the other qualifications."
   ]
  },
  {
   "cell_type": "code",
   "execution_count": 47,
   "metadata": {},
   "outputs": [
    {
     "data": {
      "text/html": [
       "<div>\n",
       "<style scoped>\n",
       "    .dataframe tbody tr th:only-of-type {\n",
       "        vertical-align: middle;\n",
       "    }\n",
       "\n",
       "    .dataframe tbody tr th {\n",
       "        vertical-align: top;\n",
       "    }\n",
       "\n",
       "    .dataframe thead th {\n",
       "        text-align: right;\n",
       "    }\n",
       "</style>\n",
       "<table border=\"1\" class=\"dataframe\">\n",
       "  <thead>\n",
       "    <tr style=\"text-align: right;\">\n",
       "      <th></th>\n",
       "      <th>tconst</th>\n",
       "      <th>primary_title</th>\n",
       "      <th>averagerating</th>\n",
       "      <th>numvotes</th>\n",
       "      <th>category</th>\n",
       "      <th>genres</th>\n",
       "      <th>primary_name</th>\n",
       "      <th>primary_profession</th>\n",
       "    </tr>\n",
       "  </thead>\n",
       "  <tbody>\n",
       "    <tr>\n",
       "      <td>0</td>\n",
       "      <td>tt2170667</td>\n",
       "      <td>Wheels</td>\n",
       "      <td>9.3</td>\n",
       "      <td>17308</td>\n",
       "      <td>actor</td>\n",
       "      <td>Drama</td>\n",
       "      <td>Donavon Warren</td>\n",
       "      <td>producer,actor,director</td>\n",
       "    </tr>\n",
       "    <tr>\n",
       "      <td>1</td>\n",
       "      <td>tt2170667</td>\n",
       "      <td>Wheels</td>\n",
       "      <td>9.3</td>\n",
       "      <td>17308</td>\n",
       "      <td>actor</td>\n",
       "      <td>Drama</td>\n",
       "      <td>Patrick Hume</td>\n",
       "      <td>actor,miscellaneous</td>\n",
       "    </tr>\n",
       "    <tr>\n",
       "      <td>2</td>\n",
       "      <td>tt2170667</td>\n",
       "      <td>Wheels</td>\n",
       "      <td>9.3</td>\n",
       "      <td>17308</td>\n",
       "      <td>actor</td>\n",
       "      <td>Drama</td>\n",
       "      <td>Kevin McCorkle</td>\n",
       "      <td>actor,producer,miscellaneous</td>\n",
       "    </tr>\n",
       "    <tr>\n",
       "      <td>3</td>\n",
       "      <td>tt5813916</td>\n",
       "      <td>The Mountain II</td>\n",
       "      <td>9.3</td>\n",
       "      <td>100568</td>\n",
       "      <td>actor</td>\n",
       "      <td>Action,Drama,War</td>\n",
       "      <td>Ozan Agaç</td>\n",
       "      <td>actor,writer,assistant_director</td>\n",
       "    </tr>\n",
       "    <tr>\n",
       "      <td>4</td>\n",
       "      <td>tt5813916</td>\n",
       "      <td>The Mountain II</td>\n",
       "      <td>9.3</td>\n",
       "      <td>100568</td>\n",
       "      <td>actor</td>\n",
       "      <td>Action,Drama,War</td>\n",
       "      <td>Bedii Akin</td>\n",
       "      <td>actor,producer,writer</td>\n",
       "    </tr>\n",
       "  </tbody>\n",
       "</table>\n",
       "</div>"
      ],
      "text/plain": [
       "      tconst    primary_title  averagerating  numvotes category  \\\n",
       "0  tt2170667           Wheels            9.3     17308    actor   \n",
       "1  tt2170667           Wheels            9.3     17308    actor   \n",
       "2  tt2170667           Wheels            9.3     17308    actor   \n",
       "3  tt5813916  The Mountain II            9.3    100568    actor   \n",
       "4  tt5813916  The Mountain II            9.3    100568    actor   \n",
       "\n",
       "             genres    primary_name               primary_profession  \n",
       "0             Drama  Donavon Warren          producer,actor,director  \n",
       "1             Drama    Patrick Hume              actor,miscellaneous  \n",
       "2             Drama  Kevin McCorkle     actor,producer,miscellaneous  \n",
       "3  Action,Drama,War       Ozan Agaç  actor,writer,assistant_director  \n",
       "4  Action,Drama,War      Bedii Akin            actor,producer,writer  "
      ]
     },
     "execution_count": 47,
     "metadata": {},
     "output_type": "execute_result"
    }
   ],
   "source": [
    "cur.execute(\"\"\"SELECT tconst, \n",
    "                      primary_title, \n",
    "                      averagerating, \n",
    "                      numvotes,\n",
    "                      category,\n",
    "                      genres,\n",
    "                      primary_name,\n",
    "                      primary_profession            \n",
    "               from movies\n",
    "               JOIN principals using(tconst)\n",
    "               JOIN workers using(nconst)\n",
    "               WHERE (numvotes > 10000 AND\n",
    "                      (category is \"actor\"))\n",
    "               ORDER BY averagerating DESC\n",
    "               LIMIT 500;\n",
    "               \"\"\")\n",
    "actors_df = make_dataframe()\n",
    "actors_df.head()"
   ]
  },
  {
   "cell_type": "code",
   "execution_count": 48,
   "metadata": {},
   "outputs": [
    {
     "data": {
      "text/html": [
       "<div>\n",
       "<style scoped>\n",
       "    .dataframe tbody tr th:only-of-type {\n",
       "        vertical-align: middle;\n",
       "    }\n",
       "\n",
       "    .dataframe tbody tr th {\n",
       "        vertical-align: top;\n",
       "    }\n",
       "\n",
       "    .dataframe thead th {\n",
       "        text-align: right;\n",
       "    }\n",
       "</style>\n",
       "<table border=\"1\" class=\"dataframe\">\n",
       "  <thead>\n",
       "    <tr style=\"text-align: right;\">\n",
       "      <th></th>\n",
       "      <th>tconst</th>\n",
       "      <th>primary_title</th>\n",
       "      <th>averagerating</th>\n",
       "      <th>numvotes</th>\n",
       "      <th>category</th>\n",
       "      <th>genres</th>\n",
       "      <th>primary_profession</th>\n",
       "    </tr>\n",
       "    <tr>\n",
       "      <th>primary_name</th>\n",
       "      <th></th>\n",
       "      <th></th>\n",
       "      <th></th>\n",
       "      <th></th>\n",
       "      <th></th>\n",
       "      <th></th>\n",
       "      <th></th>\n",
       "    </tr>\n",
       "  </thead>\n",
       "  <tbody>\n",
       "    <tr>\n",
       "      <td>Aadhi</td>\n",
       "      <td>1</td>\n",
       "      <td>1</td>\n",
       "      <td>1</td>\n",
       "      <td>1</td>\n",
       "      <td>1</td>\n",
       "      <td>1</td>\n",
       "      <td>1</td>\n",
       "    </tr>\n",
       "    <tr>\n",
       "      <td>Aamir Khan</td>\n",
       "      <td>3</td>\n",
       "      <td>3</td>\n",
       "      <td>3</td>\n",
       "      <td>3</td>\n",
       "      <td>3</td>\n",
       "      <td>3</td>\n",
       "      <td>3</td>\n",
       "    </tr>\n",
       "    <tr>\n",
       "      <td>Abhay Deol</td>\n",
       "      <td>1</td>\n",
       "      <td>1</td>\n",
       "      <td>1</td>\n",
       "      <td>1</td>\n",
       "      <td>1</td>\n",
       "      <td>1</td>\n",
       "      <td>1</td>\n",
       "    </tr>\n",
       "    <tr>\n",
       "      <td>Abraham Attah</td>\n",
       "      <td>1</td>\n",
       "      <td>1</td>\n",
       "      <td>1</td>\n",
       "      <td>1</td>\n",
       "      <td>1</td>\n",
       "      <td>1</td>\n",
       "      <td>1</td>\n",
       "    </tr>\n",
       "    <tr>\n",
       "      <td>Achyuth Kumar</td>\n",
       "      <td>1</td>\n",
       "      <td>1</td>\n",
       "      <td>1</td>\n",
       "      <td>1</td>\n",
       "      <td>1</td>\n",
       "      <td>1</td>\n",
       "      <td>1</td>\n",
       "    </tr>\n",
       "    <tr>\n",
       "      <td>...</td>\n",
       "      <td>...</td>\n",
       "      <td>...</td>\n",
       "      <td>...</td>\n",
       "      <td>...</td>\n",
       "      <td>...</td>\n",
       "      <td>...</td>\n",
       "      <td>...</td>\n",
       "    </tr>\n",
       "    <tr>\n",
       "      <td>Yilmaz Erdogan</td>\n",
       "      <td>1</td>\n",
       "      <td>1</td>\n",
       "      <td>1</td>\n",
       "      <td>1</td>\n",
       "      <td>1</td>\n",
       "      <td>1</td>\n",
       "      <td>1</td>\n",
       "    </tr>\n",
       "    <tr>\n",
       "      <td>Yukito Nishii</td>\n",
       "      <td>2</td>\n",
       "      <td>2</td>\n",
       "      <td>2</td>\n",
       "      <td>2</td>\n",
       "      <td>2</td>\n",
       "      <td>2</td>\n",
       "      <td>2</td>\n",
       "    </tr>\n",
       "    <tr>\n",
       "      <td>Zachary Levi</td>\n",
       "      <td>1</td>\n",
       "      <td>1</td>\n",
       "      <td>1</td>\n",
       "      <td>1</td>\n",
       "      <td>1</td>\n",
       "      <td>1</td>\n",
       "      <td>1</td>\n",
       "    </tr>\n",
       "    <tr>\n",
       "      <td>Zain Al Rafeea</td>\n",
       "      <td>1</td>\n",
       "      <td>1</td>\n",
       "      <td>1</td>\n",
       "      <td>1</td>\n",
       "      <td>1</td>\n",
       "      <td>1</td>\n",
       "      <td>1</td>\n",
       "    </tr>\n",
       "    <tr>\n",
       "      <td>Çetin Tekindor</td>\n",
       "      <td>1</td>\n",
       "      <td>1</td>\n",
       "      <td>1</td>\n",
       "      <td>1</td>\n",
       "      <td>1</td>\n",
       "      <td>1</td>\n",
       "      <td>1</td>\n",
       "    </tr>\n",
       "  </tbody>\n",
       "</table>\n",
       "<p>404 rows × 7 columns</p>\n",
       "</div>"
      ],
      "text/plain": [
       "                tconst  primary_title  averagerating  numvotes  category  \\\n",
       "primary_name                                                               \n",
       "Aadhi                1              1              1         1         1   \n",
       "Aamir Khan           3              3              3         3         3   \n",
       "Abhay Deol           1              1              1         1         1   \n",
       "Abraham Attah        1              1              1         1         1   \n",
       "Achyuth Kumar        1              1              1         1         1   \n",
       "...                ...            ...            ...       ...       ...   \n",
       "Yilmaz Erdogan       1              1              1         1         1   \n",
       "Yukito Nishii        2              2              2         2         2   \n",
       "Zachary Levi         1              1              1         1         1   \n",
       "Zain Al Rafeea       1              1              1         1         1   \n",
       "Çetin Tekindor       1              1              1         1         1   \n",
       "\n",
       "                genres  primary_profession  \n",
       "primary_name                                \n",
       "Aadhi                1                   1  \n",
       "Aamir Khan           3                   3  \n",
       "Abhay Deol           1                   1  \n",
       "Abraham Attah        1                   1  \n",
       "Achyuth Kumar        1                   1  \n",
       "...                ...                 ...  \n",
       "Yilmaz Erdogan       1                   1  \n",
       "Yukito Nishii        2                   2  \n",
       "Zachary Levi         1                   1  \n",
       "Zain Al Rafeea       1                   1  \n",
       "Çetin Tekindor       1                   1  \n",
       "\n",
       "[404 rows x 7 columns]"
      ]
     },
     "execution_count": 48,
     "metadata": {},
     "output_type": "execute_result"
    }
   ],
   "source": [
    "actors_df.set_index('primary_name')\n",
    "actors_df.groupby('primary_name').count()"
   ]
  },
  {
   "cell_type": "code",
   "execution_count": null,
   "metadata": {},
   "outputs": [],
   "source": []
  },
  {
   "cell_type": "code",
   "execution_count": null,
   "metadata": {},
   "outputs": [],
   "source": []
  },
  {
   "cell_type": "code",
   "execution_count": null,
   "metadata": {},
   "outputs": [],
   "source": []
  },
  {
   "cell_type": "code",
   "execution_count": null,
   "metadata": {},
   "outputs": [],
   "source": []
  },
  {
   "cell_type": "code",
   "execution_count": null,
   "metadata": {},
   "outputs": [],
   "source": []
  },
  {
   "cell_type": "markdown",
   "metadata": {},
   "source": [
    "### Financial Data Visualization"
   ]
  },
  {
   "cell_type": "markdown",
   "metadata": {},
   "source": [
    "Across the top 250 movies researched, it was found that the vast majority of them cost less than $250,0000,000"
   ]
  },
  {
   "cell_type": "code",
   "execution_count": 49,
   "metadata": {
    "scrolled": false
   },
   "outputs": [
    {
     "data": {
      "text/plain": [
       "[]"
      ]
     },
     "execution_count": 49,
     "metadata": {},
     "output_type": "execute_result"
    },
    {
     "data": {
      "image/png": "[encoded data removed]",
      "text/plain": [
       "<Figure size 720x576 with 1 Axes>"
      ]
     },
     "metadata": {},
     "output_type": "display_data"
    }
   ],
   "source": [
    "cur.execute(\"\"\"SELECT movie, \n",
    "                      production_budget, \n",
    "                      domestic_gross, \n",
    "                      worldwide_gross\n",
    "               from TNBudgets\n",
    "               ORDER BY domestic_gross DESC\n",
    "               LIMIT 250;\"\"\")\n",
    "financial_df = make_dataframe()\n",
    "financial_plot = sns.scatterplot(\n",
    "    x=financial_df['production_budget'],\n",
    "    y=financial_df['domestic_gross'],\n",
    "    color = \"#2C1E3D\"\n",
    "    )\n",
    "\n",
    "# Create line for reference to production_budget\n",
    "x = np.linspace(min(financial_df['production_budget']),max(financial_df['production_budget']))\n",
    "y = x\n",
    "sns.lineplot(x=x, y=y, ax=financial_plot, color=\"#BC7997\")\n",
    "\n",
    "\n",
    "financial_plot.set_xlabel(\"Production Budget\")\n",
    "financial_plot.set_ylabel(\"Domestic Gross Earnings\")\n",
    "financial_plot.set_title(\"Budget vs. Domestic Earnings\")\n",
    "financial_plot.plot()"
   ]
  },
  {
   "cell_type": "code",
   "execution_count": 50,
   "metadata": {
    "scrolled": false
   },
   "outputs": [
    {
     "data": {
      "text/plain": [
       "Text(0.5, 1.0, 'Movies by Production Values')"
      ]
     },
     "execution_count": 50,
     "metadata": {},
     "output_type": "execute_result"
    },
    {
     "data": {
      "image/png": "[encoded data removed]",
      "text/plain": [
       "<Figure size 720x576 with 1 Axes>"
      ]
     },
     "metadata": {},
     "output_type": "display_data"
    }
   ],
   "source": [
    "financial_plot = sns.distplot(financial_df['production_budget'], kde=False, color='#2C1E3D')\n",
    "financial_plot.set_title(\"Movies by Production Values\")"
   ]
  },
  {
   "cell_type": "code",
   "execution_count": 51,
   "metadata": {},
   "outputs": [
    {
     "name": "stdout",
     "output_type": "stream",
     "text": [
      "                                          movie  production_budget  \\\n",
      "0          Star Wars Ep. VII: The Force Awakens          306000000   \n",
      "1                                        Avatar          425000000   \n",
      "2                        Avengers: Infinity War          300000000   \n",
      "3             Star Wars Ep. VIII: The Last Jedi          317000000   \n",
      "4                       Avengers: Age of Ultron          330600000   \n",
      "5                         The Dark Knight Rises          275000000   \n",
      "6                                  Spider-Man 3          258000000   \n",
      "7    Pirates of the Caribbean: At Worldâs End          300000000   \n",
      "8   Pirates of the Caribbean: On Stranger Tides          410600000   \n",
      "9                                Justice League          300000000   \n",
      "10                      Solo: A Star Wars Story          275000000   \n",
      "11                                      Tangled          260000000   \n",
      "12                                      Spectre          300000000   \n",
      "13                              The Lone Ranger          275000000   \n",
      "14                                  John Carter          275000000   \n",
      "15                                 Dark Phoenix          350000000   \n",
      "\n",
      "    domestic_gross  worldwide_gross  \n",
      "0        936662225       2053311220  \n",
      "1        760507625       2776345279  \n",
      "2        678815482       2048134200  \n",
      "3        620181382       1316721747  \n",
      "4        459005868       1403013963  \n",
      "5        448139099       1084439099  \n",
      "6        336530303        894860230  \n",
      "7        309420425        963420425  \n",
      "8        241063875       1045663875  \n",
      "9        229024295        655945209  \n",
      "10       213767512        393151347  \n",
      "11       200821936        586477240  \n",
      "12       200074175        879620923  \n",
      "13        89302115        260002115  \n",
      "14        73058679        282778100  \n",
      "15        42762350        149762350  \n"
     ]
    },
    {
     "data": {
      "text/plain": [
       "[]"
      ]
     },
     "execution_count": 51,
     "metadata": {},
     "output_type": "execute_result"
    },
    {
     "data": {
      "image/png": "[encoded data removed]",
      "text/plain": [
       "<Figure size 720x576 with 1 Axes>"
      ]
     },
     "metadata": {},
     "output_type": "display_data"
    }
   ],
   "source": [
    "cur.execute(\"\"\"SELECT movie, \n",
    "                      production_budget, \n",
    "                      domestic_gross, \n",
    "                      worldwide_gross\n",
    "               from TNBudgets\n",
    "               WHERE (production_budget > 250000000)\n",
    "               ORDER BY domestic_gross DESC\n",
    "               LIMIT 250;\"\"\") # Generate data via SQL Query\n",
    "financial_df = make_dataframe() #Create Dataframe\n",
    "print(financial_df) #Pulled data for presentation\n",
    "financial_plot = sns.scatterplot(\n",
    "    x=financial_df['production_budget'],\n",
    "    y=financial_df['domestic_gross'],\n",
    "    color = \"#2C1E3D\"\n",
    "    )\n",
    "# To create line for reference of production budget\n",
    "x = np.linspace(min(financial_df['production_budget']),max(financial_df['production_budget']))\n",
    "y = x\n",
    "sns.lineplot(x=x, y=y, ax=financial_plot, color=\"#BC7997\")\n",
    "\n",
    "\n",
    "financial_plot.set_xlabel(\"Production Budget\")\n",
    "financial_plot.set_ylabel(\"Domestic Gross Earnings\")\n",
    "financial_plot.set_title(\"Budget vs. Domestic Earnings\")\n",
    "financial_plot.plot()"
   ]
  },
  {
   "cell_type": "code",
   "execution_count": null,
   "metadata": {},
   "outputs": [],
   "source": []
  },
  {
   "cell_type": "code",
   "execution_count": null,
   "metadata": {},
   "outputs": [],
   "source": []
  },
  {
   "cell_type": "code",
   "execution_count": null,
   "metadata": {},
   "outputs": [],
   "source": []
  },
  {
   "cell_type": "code",
   "execution_count": null,
   "metadata": {},
   "outputs": [],
   "source": []
  },
  {
   "cell_type": "code",
   "execution_count": null,
   "metadata": {},
   "outputs": [],
   "source": []
  },
  {
   "cell_type": "code",
   "execution_count": null,
   "metadata": {},
   "outputs": [],
   "source": []
  },
  {
   "cell_type": "code",
   "execution_count": null,
   "metadata": {},
   "outputs": [],
   "source": []
  },
  {
   "cell_type": "code",
   "execution_count": null,
   "metadata": {},
   "outputs": [],
   "source": []
  },
  {
   "cell_type": "code",
   "execution_count": null,
   "metadata": {},
   "outputs": [],
   "source": []
  }
 ],
 "metadata": {
  "kernelspec": {
   "display_name": "Python 3",
   "language": "python",
   "name": "python3"
  },
  "language_info": {
   "codemirror_mode": {
    "name": "ipython",
    "version": 3
   },
   "file_extension": ".py",
   "mimetype": "text/x-python",
   "name": "python",
   "nbconvert_exporter": "python",
   "pygments_lexer": "ipython3",
   "version": "3.6.9"
  }
 },
 "nbformat": 4,
 "nbformat_minor": 2
}
