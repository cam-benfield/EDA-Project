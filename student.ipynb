{
 "cells": [
  {
   "cell_type": "markdown",
   "metadata": {},
   "source": [
    "## Final Project Submission\n",
    "\n",
    "Please fill out:\n",
    "* Student name: Cameryn\n",
    "* Student pace: part time\n",
    "* Scheduled project review date/time: \n",
    "* Instructor name: Victor Geislinger\n",
    "* Blog post URL: \n"
   ]
  },
  {
   "cell_type": "markdown",
   "metadata": {},
   "source": [
    "# Importing important packages\n",
    "For this project, the pandas, numpy, seaborn, matplotlib, and sqlite3 packages are needed and imported. The matplotlib is also declared as inline to avoid any potential issues in the future."
   ]
  },
  {
   "cell_type": "code",
   "execution_count": null,
   "metadata": {},
   "outputs": [],
   "source": [
    "import pandas as pd # for dataframes\n",
    "import numpy as np\n",
    "import seaborn as sns # for making our charts more readable\n",
    "import matplotlib.pyplot as plt\n",
    "import sqlite3\n",
    "from sqlalchemy import create_engine\n",
    "\n",
    "%matplotlib inline"
   ]
  },
  {
   "cell_type": "markdown",
   "metadata": {},
   "source": [
    "# Importing all data as CSV and TSV files\n",
    "\n",
    "First, it is important to bring all of the data into a usable, readable format, in this case, pandas dataframes.\n",
    "\n",
    "**Note that one file, 'rt.reviews.tsv' is encoded differently and thus needed to be converted using the correct encoding declaration.**"
   ]
  },
  {
   "cell_type": "code",
   "execution_count": null,
   "metadata": {},
   "outputs": [],
   "source": [
    "#Import data\n",
    "bom_df = pd.read_csv('zippedData/bom.movie_gross.csv')\n",
    "im_n_basics_df = pd.read_csv('zippedData/imdb.name.basics.csv')\n",
    "im_akas_df = pd.read_csv('zippedData/imdb.title.akas.csv')\n",
    "im_basics_df = pd.read_csv('zippedData/imdb.title.basics.csv')\n",
    "im_crew_df = pd.read_csv('zippedData/imdb.title.crew.csv')\n",
    "im_principals_df = pd.read_csv('zippedData/imdb.title.principals.csv')\n",
    "im_ratings_df = pd.read_csv('zippedData/imdb.title.ratings.csv')\n",
    "rt_movie_info_df = pd.read_csv('zippedData/rt.movie_info.tsv', sep='\\t')\n",
    "rt_reviews_df = pd.read_csv('zippedData/rt.reviews.tsv', sep='\\t', encoding = 'latin1')\n",
    "tmdb_movies_df = pd.read_csv('zippedData/tmdb.movies.csv')\n",
    "tn_budgets_df = pd.read_csv('zippedData/tn.movie_budgets.csv')"
   ]
  },
  {
   "cell_type": "markdown",
   "metadata": {},
   "source": [
    "After importing them, the .info() of each dataframe was checked in order to determine the data types of each column and determine what needed to be done in the below cells. That is not shown below for each dataframe, simply due to the amount of space that does take, but it is shown for the first dataframe, bom_df.\n",
    "\n",
    "**Note the 'foreign_gross' column's type. This will prevent future statistical analysis, which is addressed in the future.**"
   ]
  },
  {
   "cell_type": "code",
   "execution_count": null,
   "metadata": {},
   "outputs": [],
   "source": [
    "bom_df.info()"
   ]
  },
  {
   "cell_type": "markdown",
   "metadata": {},
   "source": [
    "# Data Cleaning\n",
    "In order to appropriately understand and interpret each dataframe in the context of the others, it is important to clean andappropriately format each column, removing unhelpful and ill-formated data and replacing where possible."
   ]
  },
  {
   "cell_type": "markdown",
   "metadata": {},
   "source": [
    "### Changing Column Type\n",
    "The issue noted previously with bom_bf['foreign_gross'], is common across a few of our dataframes, thus the below function has been written to prevent unnecessary repetition."
   ]
  },
  {
   "cell_type": "code",
   "execution_count": null,
   "metadata": {},
   "outputs": [],
   "source": [
    "\n",
    "def column_type_changer(column, df):\n",
    "    \"\"\"Returns stripped, numeric column from object-type column\n",
    "       Args:\n",
    "           column: Column to be converted.\n",
    "           df: DataFrame that column is located in.\n",
    "       Returns:\n",
    "           Series data converted to numeric data type\"\"\"\n",
    "    \n",
    "    df[column] = df[column].str.replace('$','') # Removing non-numeric chars\n",
    "    df[column] = df[column].str.replace(',','') # Removing non-numeric chars\n",
    "    df[column] = df[column].str.replace(' minutes','') # Removing non-numeric chars\n",
    "    df[column] = df[column].apply(pd.to_numeric) # Converts to numbers\n",
    "    return df[column]"
   ]
  },
  {
   "cell_type": "code",
   "execution_count": null,
   "metadata": {},
   "outputs": [],
   "source": [
    "bom_df['foreign_gross'] = column_type_changer('foreign_gross', bom_df)"
   ]
  },
  {
   "cell_type": "code",
   "execution_count": null,
   "metadata": {},
   "outputs": [],
   "source": [
    "print(bom_df.info())\n",
    "print(bom_df.describe())\n",
    "bom_df.head()"
   ]
  },
  {
   "cell_type": "markdown",
   "metadata": {},
   "source": [
    "Note the number of null objects in the 'foreign_gross' column. This could be attributed to a number of things, though often it could simply be that the film wasn't released abroad. Without context, it may cause more problems that it would solve to replace that information. Further exploration of the other data may be necessary."
   ]
  },
  {
   "cell_type": "code",
   "execution_count": null,
   "metadata": {},
   "outputs": [],
   "source": [
    "im_n_basics_df.info()\n",
    "im_n_basics_df.head()"
   ]
  },
  {
   "cell_type": "code",
   "execution_count": null,
   "metadata": {},
   "outputs": [],
   "source": [
    "im_akas_df.info()\n",
    "im_akas_df.head()"
   ]
  },
  {
   "cell_type": "markdown",
   "metadata": {},
   "source": [
    "### Merging DataFrames\n",
    "In order to better utilize this data, the ratings dataframe will be merged with the basics dataframe, as the ratings dataframe does not contain any keys that otherwise would refer to other dataframes in future data manipulation. The crew dataframe will also be merged into the dataframe, utilizing the tconstant column in order to maintain consistency, and to allow future joins and subqueries to be much more simple.\n",
    "\n",
    "**While this does remove some lines from the data, as the client is clearly attempting to determine what the best option is to enter the film business, requiring ratings seems to be a good choice.**"
   ]
  },
  {
   "cell_type": "code",
   "execution_count": null,
   "metadata": {},
   "outputs": [],
   "source": [
    "im_crew_df.head() # Quick preview of crew dataframe"
   ]
  },
  {
   "cell_type": "code",
   "execution_count": null,
   "metadata": {},
   "outputs": [],
   "source": [
    "im_ratings_df.head() # Quick preview of ratings dataframe"
   ]
  },
  {
   "cell_type": "code",
   "execution_count": null,
   "metadata": {},
   "outputs": [],
   "source": [
    "im_basics_df = pd.merge(im_basics_df, im_ratings_df, on='tconst')\n",
    "im_basics_df = pd.merge(im_basics_df, im_crew_df, on='tconst')\n",
    "im_basics_df.head()\n",
    "im_basics_df.info()"
   ]
  },
  {
   "cell_type": "code",
   "execution_count": null,
   "metadata": {},
   "outputs": [],
   "source": []
  },
  {
   "cell_type": "code",
   "execution_count": null,
   "metadata": {
    "scrolled": false
   },
   "outputs": [],
   "source": [
    "im_principals_df.info()\n",
    "im_principals_df.head()"
   ]
  },
  {
   "cell_type": "code",
   "execution_count": null,
   "metadata": {},
   "outputs": [],
   "source": []
  },
  {
   "cell_type": "code",
   "execution_count": null,
   "metadata": {
    "scrolled": false
   },
   "outputs": [],
   "source": [
    "rt_movie_info_df.info()\n",
    "rt_movie_info_df['box_office'] = column_type_changer('box_office',rt_movie_info_df)\n",
    "rt_movie_info_df['runtime'] = column_type_changer('runtime',rt_movie_info_df)\n",
    "rt_movie_info_df.head()"
   ]
  },
  {
   "cell_type": "code",
   "execution_count": null,
   "metadata": {
    "scrolled": false
   },
   "outputs": [],
   "source": [
    "rt_reviews_df.info() #use this data to potentially invite specific reviewers\n",
    "rt_reviews_df.head()"
   ]
  },
  {
   "cell_type": "code",
   "execution_count": null,
   "metadata": {},
   "outputs": [],
   "source": [
    "tmdb_movies_df.head()"
   ]
  },
  {
   "cell_type": "code",
   "execution_count": null,
   "metadata": {},
   "outputs": [],
   "source": [
    "tn_budgets_df['production_budget'] = column_type_changer('production_budget', tn_budgets_df)\n",
    "tn_budgets_df['domestic_gross'] = column_type_changer('domestic_gross', tn_budgets_df)\n",
    "tn_budgets_df['worldwide_gross'] = column_type_changer('worldwide_gross', tn_budgets_df)\n",
    "tn_budgets_df.head()"
   ]
  },
  {
   "cell_type": "markdown",
   "metadata": {},
   "source": [
    "# Creating a Database\n",
    "It is necessary to create a database first to tie all of the previous data together and to allow for queries."
   ]
  },
  {
   "cell_type": "code",
   "execution_count": null,
   "metadata": {},
   "outputs": [],
   "source": [
    "# Create the movies database\n",
    "conn = sqlite3.connect('movies.sqlite')\n",
    "cur = conn.cursor()"
   ]
  },
  {
   "cell_type": "markdown",
   "metadata": {},
   "source": [
    "In the below cells, the dataframes will be converted to sqlite tables in order to be better queried. This will allow for joining on various columns/keys, as will be explained in the future."
   ]
  },
  {
   "cell_type": "code",
   "execution_count": null,
   "metadata": {
    "scrolled": true
   },
   "outputs": [],
   "source": [
    "engine = create_engine('sqlite://', echo=False)\n",
    "im_basics_df.to_sql('movies', con=engine)\n",
    "\n",
    "engine.execute(\"\"\"SELECT * \n",
    "                from movies;\"\"\").fetchall()"
   ]
  },
  {
   "cell_type": "code",
   "execution_count": null,
   "metadata": {},
   "outputs": [],
   "source": [
    "im_n_basics_df.to_sql('workers',con=engine)\n",
    "engine.execute(\"\"\"SELECT * \n",
    "                from workers;\"\"\").fetchall()"
   ]
  },
  {
   "cell_type": "code",
   "execution_count": null,
   "metadata": {},
   "outputs": [],
   "source": [
    "im_akas_df.to_sql('movieNames',con=engine)\n",
    "engine.execute(\"\"\"SELECT * \n",
    "                from movieNames;\"\"\").fetchall()"
   ]
  },
  {
   "cell_type": "code",
   "execution_count": null,
   "metadata": {},
   "outputs": [],
   "source": []
  }
 ],
 "metadata": {
  "kernelspec": {
   "display_name": "Python 3",
   "language": "python",
   "name": "python3"
  },
  "language_info": {
   "codemirror_mode": {
    "name": "ipython",
    "version": 3
   },
   "file_extension": ".py",
   "mimetype": "text/x-python",
   "name": "python",
   "nbconvert_exporter": "python",
   "pygments_lexer": "ipython3",
   "version": "3.6.9"
  }
 },
 "nbformat": 4,
 "nbformat_minor": 2
}
